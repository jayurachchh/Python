{
 "cells": [
  {
   "cell_type": "markdown",
   "metadata": {},
   "source": [
    "<a href='https://www.darshan.ac.in/'> <img src='https://www.darshan.ac.in/Content/media/DU_Logo.svg' width=\"250\" height=\"300\"/></a>\n",
    "<pre>\n",
    "<center><b><h1>Python Programming - 2101CS405</b></center>\n",
    "<center><b><h1>Lab - 1</b></center>    \n",
    "<pre>"
   ]
  },
  {
   "cell_type": "markdown",
   "metadata": {},
   "source": [
    "### 01) WAP to print “Hello World”"
   ]
  },
  {
   "cell_type": "code",
   "execution_count": 1,
   "metadata": {},
   "outputs": [
    {
     "name": "stdout",
     "output_type": "stream",
     "text": [
      "Hello World\n"
     ]
    }
   ],
   "source": [
    "print(\"Hello World\")"
   ]
  },
  {
   "cell_type": "markdown",
   "metadata": {},
   "source": [
    "### 02) WAP to print your address i) using single print ii) using multiple print"
   ]
  },
  {
   "cell_type": "code",
   "execution_count": 2,
   "metadata": {},
   "outputs": [
    {
     "name": "stdout",
     "output_type": "stream",
     "text": [
      "Rajkot\n",
      "Ahemdabad\n",
      "Rajkot Surat\n",
      "Ahemdabad\n"
     ]
    },
    {
     "data": {
      "text/plain": [
       "(None, None)"
      ]
     },
     "execution_count": 2,
     "metadata": {},
     "output_type": "execute_result"
    }
   ],
   "source": [
    "print(\"Rajkot\"),print(\"Ahemdabad\")\n",
    "print(\"Rajkot\",\"Surat\"),print(\"Ahemdabad\")"
   ]
  },
  {
   "cell_type": "markdown",
   "metadata": {},
   "source": [
    "### 03) WAP to print addition of 2 numbers (without input function)"
   ]
  },
  {
   "cell_type": "code",
   "execution_count": 3,
   "metadata": {},
   "outputs": [
    {
     "name": "stdout",
     "output_type": "stream",
     "text": [
      "Sum is  22\n"
     ]
    }
   ],
   "source": [
    "a,b=10,12\n",
    "c=a+b\n",
    "print(\"Sum is \",c)"
   ]
  },
  {
   "cell_type": "markdown",
   "metadata": {},
   "source": [
    "### 04) WAP to calculate and print average of 2 numbers (without input function)"
   ]
  },
  {
   "cell_type": "code",
   "execution_count": 4,
   "metadata": {},
   "outputs": [
    {
     "name": "stdout",
     "output_type": "stream",
     "text": [
      "Average is 11.0\n"
     ]
    }
   ],
   "source": [
    "a,b=10,12\n",
    "c=a+b\n",
    "d=c/2\n",
    "print(\"Average is\",d)"
   ]
  },
  {
   "cell_type": "markdown",
   "metadata": {},
   "source": [
    "### 05) WAP to add two number entered by user."
   ]
  },
  {
   "cell_type": "code",
   "execution_count": 5,
   "metadata": {},
   "outputs": [
    {
     "name": "stdout",
     "output_type": "stream",
     "text": [
      "Enter the Number a12\n",
      "Enter the Number b55\n",
      "Sum is 67.0\n"
     ]
    }
   ],
   "source": [
    "a=float(input(\"Enter the Number a\"))\n",
    "b=float(input(\"Enter the Number b\"))\n",
    "c=a+b\n",
    "print(\"Sum is\",c)"
   ]
  },
  {
   "cell_type": "markdown",
   "metadata": {},
   "source": [
    "### 06) WAP to calculate simple interest."
   ]
  },
  {
   "cell_type": "code",
   "execution_count": 1,
   "metadata": {},
   "outputs": [
    {
     "name": "stdout",
     "output_type": "stream",
     "text": [
      "Enter the Number p5000\n",
      "Enter the Number r2\n",
      "Enter the Number n12\n",
      "Interest is  1200.0\n"
     ]
    }
   ],
   "source": [
    "p=float(input(\"Enter the Number p\"))\n",
    "r=float(input(\"Enter the Number r\"))\n",
    "n=float(input(\"Enter the Number n\"))\n",
    "i=p*r*n/100\n",
    "print(\"Interest is \",i)"
   ]
  },
  {
   "cell_type": "markdown",
   "metadata": {},
   "source": [
    "### 07) WAP Calculate Area and Circumfrence of Circle"
   ]
  },
  {
   "cell_type": "code",
   "execution_count": 2,
   "metadata": {},
   "outputs": [
    {
     "name": "stdout",
     "output_type": "stream",
     "text": [
      "Enter the Number radius2\n",
      "area 12.56\n",
      "circum 12.56\n"
     ]
    }
   ],
   "source": [
    "pie=3.14\n",
    "r=float(input(\"Enter the Number radius\"))\n",
    "area=pie*r**2\n",
    "cir=2*pie*r\n",
    "print(\"area\",area)\n",
    "print(\"circum\",cir)"
   ]
  },
  {
   "cell_type": "markdown",
   "metadata": {},
   "source": [
    "### 08) WAP to print Multiplication table of given number without using loops."
   ]
  },
  {
   "cell_type": "code",
   "execution_count": 12,
   "metadata": {},
   "outputs": [
    {
     "name": "stdout",
     "output_type": "stream",
     "text": [
      "Enter the number3\n",
      "3 * 1= 3\n",
      "3 * 1= 6\n",
      "3 * 1= 9\n",
      "3 * 1= 12\n",
      "3 * 1= 15\n",
      "3 * 1= 18\n",
      "3 * 1= 21\n",
      "3 * 1= 24\n",
      "3 * 1= 27\n",
      "3 * 1= 30\n"
     ]
    }
   ],
   "source": [
    "a=int(input(\"Enter the number\"))\n",
    "print(a,\"* 1=\",a*1)\n",
    "print(a,\"* 1=\",a*2)\n",
    "print(a,\"* 1=\",a*3)\n",
    "print(a,\"* 1=\",a*4)\n",
    "print(a,\"* 1=\",a*5)\n",
    "print(a,\"* 1=\",a*6)\n",
    "print(a,\"* 1=\",a*7)\n",
    "print(a,\"* 1=\",a*8)\n",
    "print(a,\"* 1=\",a*9)\n",
    "print(a,\"* 1=\",a*10)"
   ]
  },
  {
   "cell_type": "markdown",
   "metadata": {},
   "source": [
    "### 09) WAP to calculate Area of Triangle (hint: a = h * b * 0.5)"
   ]
  },
  {
   "cell_type": "code",
   "execution_count": 3,
   "metadata": {},
   "outputs": [
    {
     "name": "stdout",
     "output_type": "stream",
     "text": [
      "Enter the Number h10\n",
      "Enter the Number b5\n",
      "Area of triangle is 25.0\n"
     ]
    }
   ],
   "source": [
    "h=float(input(\"Enter the Number h\"))\n",
    "b=float(input(\"Enter the Number b\"))\n",
    "c=h*b*0.5\n",
    "print(\"Area of triangle is\",c)"
   ]
  },
  {
   "cell_type": "markdown",
   "metadata": {},
   "source": [
    "### 10) WAP to convert degree to Fahrenheit and vice versa."
   ]
  },
  {
   "cell_type": "code",
   "execution_count": 1,
   "metadata": {},
   "outputs": [
    {
     "name": "stdout",
     "output_type": "stream",
     "text": [
      "Enter the celsius24\n",
      "Fehrnhit is 75.2\n",
      "Enter the Fehrnhit75.2\n",
      "Fehrnhit is 24.0\n"
     ]
    }
   ],
   "source": [
    "#celsius to fahrenheit\n",
    "c=float(input(\"Enter the celsius\"))\n",
    "f=1.8*c+32\n",
    "print(\"Fehrnhit is\",f)\n",
    "#fahrenheit to celsius \n",
    "f1=float(input(\"Enter the Fehrnhit\"))\n",
    "c1=(f-32)/1.8\n",
    "print(\"Fehrnhit is\",c1)"
   ]
  },
  {
   "cell_type": "markdown",
   "metadata": {},
   "source": [
    "### 11) WAP to calculate total marks and Percentage."
   ]
  },
  {
   "cell_type": "code",
   "execution_count": 6,
   "metadata": {},
   "outputs": [
    {
     "name": "stdout",
     "output_type": "stream",
     "text": [
      "Enter the Number a12\n",
      "Enter the Number b12\n",
      "Enter the Number c12\n",
      "Enter the Number d12\n",
      "Enter the Number e12\n",
      "Percentage 12.0\n"
     ]
    }
   ],
   "source": [
    "a=float(input(\"Enter the Number a\"))\n",
    "b=float(input(\"Enter the Number b\"))\n",
    "c=float(input(\"Enter the Number c\"))\n",
    "d=float(input(\"Enter the Number d\"))\n",
    "e=float(input(\"Enter the Number e\"))\n",
    "c=a+b+c+d+e\n",
    "f=c*100/500\n",
    "print(\"Percentage\",f)"
   ]
  },
  {
   "cell_type": "markdown",
   "metadata": {},
   "source": [
    "### 12) Compute distance between two points taking input from the user (Pythagorean Theorem)."
   ]
  },
  {
   "cell_type": "code",
   "execution_count": 8,
   "metadata": {},
   "outputs": [
    {
     "name": "stdout",
     "output_type": "stream",
     "text": [
      "Enter the Number x1 is 2\n",
      "Enter the Number x2 is 4\n",
      "Enter the Number y1 is 3\n",
      "Enter the Number y2 is 5\n",
      "Distance is 2.8284271247461903\n"
     ]
    }
   ],
   "source": [
    "x1=float(input(\"Enter the Number x1 is \"))\n",
    "x2=float(input(\"Enter the Number x2 is \"))\n",
    "y1=float(input(\"Enter the Number y1 is \"))\n",
    "y2=float(input(\"Enter the Number y2 is \"))\n",
    "D=(((x2-x1)**2) + ((y2-y1)**2))**0.5\n",
    "print(\"Distance is\",D)"
   ]
  },
  {
   "cell_type": "markdown",
   "metadata": {},
   "source": [
    "### 13) WAP to convert seconds into hours, minutes & seconds and print in HH:MM:SS\n",
    "[e.g. 10000 seconds mean 2:46:40 (2 Hours, 46 Minutes, 40Seconds)]"
   ]
  },
  {
   "cell_type": "code",
   "execution_count": 13,
   "metadata": {},
   "outputs": [
    {
     "name": "stdout",
     "output_type": "stream",
     "text": [
      "Enter the Second10000\n",
      "Hour is 2.0\n",
      "Minutes is 46.0\n",
      "Seconds is 40.0\n"
     ]
    }
   ],
   "source": [
    "a=float(input(\"Enter the Second\"))\n",
    "h=a//3600\n",
    "b=a%3600\n",
    "m=b//60\n",
    "s=b%60\n",
    "print(\"Hour is\",h)\n",
    "print(\"Minutes is\",m)\n",
    "print(\"Seconds is\",s)"
   ]
  },
  {
   "cell_type": "markdown",
   "metadata": {},
   "source": [
    "### 14) WAP to enter distance into kilometer and convert it into meter, feet,inches, and centimeter"
   ]
  },
  {
   "cell_type": "code",
   "execution_count": 9,
   "metadata": {},
   "outputs": [
    {
     "name": "stdout",
     "output_type": "stream",
     "text": [
      "Enter the Kilometer5\n",
      "meter is 5000.0\n",
      "Feet is 16404.100000000002\n",
      "inches is 196849.2\n",
      "Sentimeter is 500000.0\n"
     ]
    }
   ],
   "source": [
    "a=float(input(\"Enter the Kilometer\"))\n",
    "me=a*1000\n",
    "ft=a*3280.82\n",
    "inc=ft*12\n",
    "sme=me*100\n",
    "print(\"meter is\",me)\n",
    "print(\"Feet is\",ft)\n",
    "print(\"inches is\",inc)\n",
    "print(\"Sentimeter is\",sme)"
   ]
  }
 ],
 "metadata": {
  "kernelspec": {
   "display_name": "Python 3 (ipykernel)",
   "language": "python",
   "name": "python3"
  },
  "language_info": {
   "codemirror_mode": {
    "name": "ipython",
    "version": 3
   },
   "file_extension": ".py",
   "mimetype": "text/x-python",
   "name": "python",
   "nbconvert_exporter": "python",
   "pygments_lexer": "ipython3",
   "version": "3.9.13"
  }
 },
 "nbformat": 4,
 "nbformat_minor": 4
}
