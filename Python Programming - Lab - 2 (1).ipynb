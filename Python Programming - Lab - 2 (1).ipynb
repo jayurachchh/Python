{
 "cells": [
  {
   "cell_type": "markdown",
   "metadata": {},
   "source": [
    "\n",
    "<a href='https://www.darshan.ac.in/'> <img src='https://www.darshan.ac.in/Content/media/DU_Logo.svg' width=\"250\" height=\"300\"/></a>\n",
    "<pre>\n",
    "<center><b><h1>Python Programming - 2101CS405</b></center>\n",
    "<center><b><h1>Lab - 2</b></center>    \n",
    "<pre>"
   ]
  },
  {
   "cell_type": "markdown",
   "metadata": {},
   "source": [
    "# if..else.."
   ]
  },
  {
   "cell_type": "markdown",
   "metadata": {},
   "source": [
    "### 01) WAP to check whether the given number is positive or negative."
   ]
  },
  {
   "cell_type": "code",
   "execution_count": 3,
   "metadata": {},
   "outputs": [
    {
     "name": "stdout",
     "output_type": "stream",
     "text": [
      "Enter the Number-8\n",
      "Number is Nagative -8\n"
     ]
    }
   ],
   "source": [
    "a=int(input(\"Enter the Number\"))\n",
    "if(a>0):\n",
    "    print(\"Number is Postive\",a)\n",
    "else:\n",
    "    print(\"Number is Nagative\",a)"
   ]
  },
  {
   "cell_type": "markdown",
   "metadata": {},
   "source": [
    "### 02) WAP to check whether the given number is odd or even"
   ]
  },
  {
   "cell_type": "code",
   "execution_count": 2,
   "metadata": {},
   "outputs": [
    {
     "name": "stdout",
     "output_type": "stream",
     "text": [
      "Enter the Number56\n",
      "number is Even 56\n"
     ]
    }
   ],
   "source": [
    "a=int(input(\"Enter the Number\"))\n",
    "if(a%2==0):\n",
    "    print(\"number is Even\",a)\n",
    "else:\n",
    "    print(\"Number is Odd\",a)"
   ]
  },
  {
   "cell_type": "markdown",
   "metadata": {},
   "source": [
    "# 03) WAP to find out largest number from given two numbers using simple if and ternary operator."
   ]
  },
  {
   "cell_type": "code",
   "execution_count": 11,
   "metadata": {},
   "outputs": [
    {
     "name": "stdout",
     "output_type": "stream",
     "text": [
      "Enter the Number a 56\n",
      "Enter the Number b 78\n",
      "Maximum Number Is b 78\n",
      "Enter the Number c 56\n",
      "Enter the Number d 12\n",
      "Maximum number is  56\n"
     ]
    }
   ],
   "source": [
    "a=int(input(\"Enter the Number a \"))\n",
    "b=int(input(\"Enter the Number b \"))\n",
    "if(a>b):\n",
    "    print(\"Maximum Number Is a \",a)\n",
    "else:\n",
    "    print(\"Maximum Number Is b\",b)\n",
    "#tenory oprator\n",
    "c=int(input(\"Enter the Number c \"))\n",
    "d=int(input(\"Enter the Number d \"))\n",
    "ans=(c if c >= d else d )\n",
    "print(\"Maximum number is \",ans)"
   ]
  },
  {
   "cell_type": "markdown",
   "metadata": {},
   "source": [
    "### 04) WAP to find out largest number from given three numbers."
   ]
  },
  {
   "cell_type": "code",
   "execution_count": 4,
   "metadata": {},
   "outputs": [
    {
     "name": "stdout",
     "output_type": "stream",
     "text": [
      "Enter the Number a12\n",
      "Enter the Number b45\n",
      "Enter the Number c20\n",
      "Maximum Number Is  45\n"
     ]
    }
   ],
   "source": [
    "a=int(input(\"Enter the Number a\"))\n",
    "b=int(input(\"Enter the Number b\"))\n",
    "c=int(input(\"Enter the Number c\"))\n",
    "if(a>b and a>c):\n",
    "    print(\"Maximum Number Is \",a)\n",
    "elif(b>a and b>c):\n",
    "    print(\"Maximum Number Is \",b)\n",
    "else:\n",
    "    print(\"Maximum Number is\",c)"
   ]
  },
  {
   "cell_type": "markdown",
   "metadata": {},
   "source": [
    "### 05) WAP to check whether the given year is leap year or not.\n",
    "[If a year can be divisible by 4 but not divisible by 100 then it is leap year but if it is divisible by 400 then it is leap year]"
   ]
  },
  {
   "cell_type": "code",
   "execution_count": 5,
   "metadata": {},
   "outputs": [
    {
     "name": "stdout",
     "output_type": "stream",
     "text": [
      "Enter the Year a2020\n",
      " This Year Is Leap year  2020\n"
     ]
    }
   ],
   "source": [
    "a=int(input(\"Enter the Year a\"))\n",
    "\n",
    "if((a%4==0 and a%100!=0) or a%400==0):\n",
    "    print(\" This Year Is Leap year \",a)\n",
    "else:\n",
    "    print(\"This Year is not Leap Year \")"
   ]
  },
  {
   "cell_type": "markdown",
   "metadata": {},
   "source": [
    "### 06) WAP in python to display the name of the day according to the number given by the user"
   ]
  },
  {
   "cell_type": "code",
   "execution_count": 6,
   "metadata": {},
   "outputs": [
    {
     "name": "stdout",
     "output_type": "stream",
     "text": [
      "Enter the number a5\n",
      "Friday\n"
     ]
    }
   ],
   "source": [
    "a=int(input(\"Enter the number a\"))\n",
    "if(a==1):\n",
    "    print(\"Monday\")\n",
    "elif(a==2):\n",
    "    print(\"Tuesday\")\n",
    "elif(a==3):\n",
    "    print(\"Wednesday\")\n",
    "elif(a==4):\n",
    "    print(\"Thuresday\")\n",
    "elif(a==5):\n",
    "    print(\"Friday\")\n",
    "elif(a==6):\n",
    "    print(\"saturday\")\n",
    "elif(a==7):\n",
    "    print(\"sunday\")\n",
    "else:\n",
    "    print(\"invalid case\")"
   ]
  },
  {
   "cell_type": "markdown",
   "metadata": {},
   "source": [
    "### 07) WAP to implement simple calculator which performs (add,sub,mul,div) of two no. based on user input."
   ]
  },
  {
   "cell_type": "code",
   "execution_count": 7,
   "metadata": {},
   "outputs": [
    {
     "name": "stdout",
     "output_type": "stream",
     "text": [
      "Enter the 1st Number 23\n",
      "Enter the 2nd Number 45\n",
      "Enter the Choice\n",
      "Enter the Operator-\n",
      "Subutraction= -22\n"
     ]
    }
   ],
   "source": [
    "m=int(input(\"Enter the 1st Number \"))\n",
    "n=int(input(\"Enter the 2nd Number \"))\n",
    "print(\"Enter the Choice\")\n",
    "p=input(\"Enter the Operator\")\n",
    "if(p=='+'):\n",
    "    print(\"Addition=\",m+n)\n",
    "elif(p=='-'):\n",
    "    print(\"Subutraction=\",m-n)\n",
    "elif(p=='*'):\n",
    "    print(\"Multiplication=\",m*n)\n",
    "elif(p=='/'):\n",
    "    print(\"Division=\",m/n)\n",
    "else:\n",
    "    print(\"Invalid case\")"
   ]
  },
  {
   "cell_type": "markdown",
   "metadata": {},
   "source": [
    "### 08) WAP to calculate electricity bill based on following criteria. Which takes the unit from the user.\n",
    "a. First 1 to 50 units – Rs. 2.60/unit</br>\n",
    "b. Next 50 to 100 units – Rs. 3.25/unit</br>\n",
    "c. Next 100 to 200 units – Rs. 5.26/unit</br>\n",
    "d. above 200 units – Rs. 8.45/unit"
   ]
  },
  {
   "cell_type": "code",
   "execution_count": 12,
   "metadata": {},
   "outputs": [
    {
     "name": "stdout",
     "output_type": "stream",
     "text": [
      "Enter the Unit 45\n",
      "Your Bill is 117.0\n"
     ]
    }
   ],
   "source": [
    "uni=int(input(\"Enter the Unit \"))\n",
    "# print(\"1 to 50 unit price is 2.60\")\n",
    "# print(\"51 to 100 unit price is 3.25\")\n",
    "# print(\"100 to 200 unit price is 5.26\")\n",
    "# print(\"200 unit above price is 8.45\")\n",
    "if(uni<=50):\n",
    "    pay=uni*2.6\n",
    "elif(uni<=100):\n",
    "    pay=(50*2.6)+(uni-50)*3.25\n",
    "elif(uni<=200):\n",
    "    pay=(50*2.6)+(100-50)*3.25+(uni-100)*5.26\n",
    "elif(uni>200):\n",
    "    pay=(50*2.6)+(100-50)*3.25+(200-100)*5.26+(uni-200)*8.45\n",
    "else:\n",
    "    pay=0\n",
    "print(  \"Your Bill is\",pay)"
   ]
  },
  {
   "cell_type": "markdown",
   "metadata": {},
   "source": [
    "### 01) WAP to read marks of five subjects. Calculate percentage and print class accordingly. \n",
    "Fail below 35 </br>\n",
    "Pass Class between 35 to 45 </br>\n",
    "Second Class</br>\n",
    "between 45 to 60</br>\n",
    "First Class between 60 to 70</br> \n",
    "Distinction if more than 70"
   ]
  },
  {
   "cell_type": "code",
   "execution_count": 4,
   "metadata": {},
   "outputs": [
    {
     "name": "stdout",
     "output_type": "stream",
     "text": [
      "Enter the Number a12\n",
      "Enter the Number b12\n",
      "Enter the Number c12\n",
      "Enter the Number d12\n",
      "Enter the Number e12\n",
      "Percentage 12.0\n",
      "you are the Fali because yo got the 12.0\n"
     ]
    }
   ],
   "source": [
    "a=float(input(\"Enter the Number a\"))\n",
    "b=float(input(\"Enter the Number b\"))\n",
    "c=float(input(\"Enter the Number c\"))\n",
    "d=float(input(\"Enter the Number d\"))\n",
    "e=float(input(\"Enter the Number e\"))\n",
    "c=a+b+c+d+e\n",
    "per=c*100/500\n",
    "print(\"Percentage\",per)\n",
    "if per<35:\n",
    "    print(\"you are the Fali because yo got the\",per)\n",
    "elif per>35 and per<=45:\n",
    "    print(\"you are the pass class because yo got the\",per)\n",
    "elif per>46 and per<=60:\n",
    "    print(\"you are the second class pass because yo got the\",per)\n",
    "elif per>61 and per<=70:\n",
    "     print(\"you are the First class pass because yo got the\",per)\n",
    "else:\n",
    "     print(\"you are the Distinction class pass because yo got the\",per)\n"
   ]
  },
  {
   "cell_type": "markdown",
   "metadata": {},
   "source": [
    "### 02) WAP to find out the Maximum and Minimum number from given 4 numbers."
   ]
  },
  {
   "cell_type": "code",
   "execution_count": 5,
   "metadata": {},
   "outputs": [
    {
     "name": "stdout",
     "output_type": "stream",
     "text": [
      "Enter the Number a5\n",
      "Enter the Number b9\n",
      "Enter the Number c3\n",
      "Enter the Number d10\n",
      "Maximum number is d 10\n",
      "Minimum number is c 3\n"
     ]
    }
   ],
   "source": [
    "a=int(input(\"Enter the Number a\"))\n",
    "b=int(input(\"Enter the Number b\"))\n",
    "c=int(input(\"Enter the Number c\"))\n",
    "d=int(input(\"Enter the Number d\"))\n",
    "#maximum number\n",
    "if a>b and a>c and a>d:\n",
    "    print(\"maximum number is a\",a)\n",
    "elif b>c and b>d:\n",
    "    print(\"Maximum number is b\",b)\n",
    "elif c>d:\n",
    "    print(\"Maximum number is c\",c)\n",
    "else:\n",
    "    print(\"Maximum number is d\",d)\n",
    "#minimuum number \n",
    "if a<b and a<c and a<d:\n",
    "    print(\"Minimum number is a\",a)\n",
    "elif b<c and b<d:\n",
    "    print(\"Minimum number is b\",b)\n",
    "elif c<d:\n",
    "    print(\"Minimum number is c\",c)\n",
    "else:\n",
    "    print(\"Minimum number is d\",d)"
   ]
  },
  {
   "cell_type": "markdown",
   "metadata": {},
   "source": [
    "### 03) WAP to input an integer number and check the last digit of number is even or odd."
   ]
  },
  {
   "cell_type": "code",
   "execution_count": 9,
   "metadata": {},
   "outputs": [
    {
     "name": "stdout",
     "output_type": "stream",
     "text": [
      "Enter the Number15\n",
      "Number is Odd 15\n"
     ]
    }
   ],
   "source": [
    "a=int(input(\"Enter the Number\"))\n",
    "b=a%10\n",
    "if(b%2==0):\n",
    "    print(\"number is Even\",a)\n",
    "else:\n",
    "    print(\"Number is Odd\",a)\n"
   ]
  },
  {
   "cell_type": "markdown",
   "metadata": {},
   "source": [
    "### 04) WAP to determine the roots of the equation ax2+bx+c=0."
   ]
  },
  {
   "cell_type": "code",
   "execution_count": 25,
   "metadata": {},
   "outputs": [
    {
     "name": "stdout",
     "output_type": "stream",
     "text": [
      "Enter the Number a2\n",
      "Enter the Number b8\n",
      "Enter the Number c3\n",
      "-1.675444679663241 -14.32455532033676\n"
     ]
    }
   ],
   "source": [
    "a=float(input(\"Enter the Number a\"))\n",
    "b=float(input(\"Enter the Number b\"))\n",
    "c=float(input(\"Enter the Number c\"))\n",
    "d=(b**2)-(4*a*c)\n",
    "ro=d**0.5\n",
    "# print(ro)\n",
    "x1=(-b+ro)/2*a\n",
    "x2=(-b-ro)/2*a\n",
    "print(x1,x2)\n",
    "x3=-b/2*a\n",
    "root1=(-(b-4*a*c)/2*a)**0.5\n",
    "if d>0:\n",
    "    print(\"Discrimiant is \",x1 ,x2)\n",
    "elif d==0:\n",
    "    print(\"Discrimiant is \",x3)\n",
    "else:\n",
    "    print(\"Root 1 =\",x3,\"+ i\",root1)\n",
    "    print(\"Root 2 =\",x3,\"- i\",root1)\n",
    "\n"
   ]
  }
 ],
 "metadata": {
  "kernelspec": {
   "display_name": "Python 3 (ipykernel)",
   "language": "python",
   "name": "python3"
  },
  "language_info": {
   "codemirror_mode": {
    "name": "ipython",
    "version": 3
   },
   "file_extension": ".py",
   "mimetype": "text/x-python",
   "name": "python",
   "nbconvert_exporter": "python",
   "pygments_lexer": "ipython3",
   "version": "3.9.13"
  }
 },
 "nbformat": 4,
 "nbformat_minor": 4
}
