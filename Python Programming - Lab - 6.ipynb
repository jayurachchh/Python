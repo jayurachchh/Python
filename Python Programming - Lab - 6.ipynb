{
 "cells": [
  {
   "cell_type": "markdown",
   "metadata": {},
   "source": [
    "<a href='https://www.darshan.ac.in/'> <img src='https://www.darshan.ac.in/Content/media/DU_Logo.svg' width=\"250\" height=\"300\"/></a>\n",
    "<pre>\n",
    "<center><b><h1>Python Programming - 2101CS405</b></center>\n",
    "<center><b><h1>Lab - 6</b></center>    \n",
    "<pre>"
   ]
  },
  {
   "cell_type": "markdown",
   "metadata": {},
   "source": [
    "# Tuples, dictionary, set"
   ]
  },
  {
   "cell_type": "markdown",
   "metadata": {},
   "source": [
    "# A"
   ]
  },
  {
   "cell_type": "markdown",
   "metadata": {},
   "source": [
    "### 01) WAP to sort python dictionary by key or value."
   ]
  },
  {
   "cell_type": "markdown",
   "metadata": {},
   "source": [
    "# On key"
   ]
  },
  {
   "cell_type": "code",
   "execution_count": 67,
   "metadata": {},
   "outputs": [
    {
     "name": "stdout",
     "output_type": "stream",
     "text": [
      "{'Country': 'India', 'District': 'Rajkot', 'State': 'Gujarat', 'Town': 'Rajkot'}\n"
     ]
    }
   ],
   "source": [
    "a={'Town':\"Rajkot\",'District':\"Rajkot\",'State':\"Gujarat\",'Country':\"India\"}\n",
    "b=sorted(a.items())\n",
    "# print(b)\n",
    "c=dict(b)\n",
    "print(c)"
   ]
  },
  {
   "cell_type": "markdown",
   "metadata": {},
   "source": [
    "# on value"
   ]
  },
  {
   "cell_type": "code",
   "execution_count": 66,
   "metadata": {},
   "outputs": [
    {
     "name": "stdout",
     "output_type": "stream",
     "text": [
      "{'State': 'Gujarat', 'Country': 'India', 'Town': 'Rajkot', 'District': 'Rajkot'}\n"
     ]
    }
   ],
   "source": [
    "a={'Town':\"Rajkot\",'District':\"Rajkot\",'State':\"Gujarat\",'Country':\"India\"}\n",
    "b = sorted(a.items(), key=lambda x:x[1])\n",
    "print(dict(b))\n",
    "# print(c)"
   ]
  },
  {
   "cell_type": "markdown",
   "metadata": {},
   "source": [
    "### 02) WAP to merge two dictionaries given by user."
   ]
  },
  {
   "cell_type": "code",
   "execution_count": 96,
   "metadata": {},
   "outputs": [
    {
     "name": "stdout",
     "output_type": "stream",
     "text": [
      "Enter the Number1\n",
      "Enter the Keyname\n",
      "Enter the valuejay\n",
      "{'name': 'jay'}\n",
      "\n",
      "Enter the Number1\n",
      "Enter the Keyroll no\n",
      "Enter the value615\n",
      "{'name': 'jay', 'roll no': '615'}\n",
      "\n"
     ]
    }
   ],
   "source": [
    "a={}\n",
    "d1=int(input(\"Enter the Number\"))\n",
    "for i in range(d1):\n",
    "    k1=input(\"Enter the Key\")\n",
    "    v1=input(\"Enter the value\")\n",
    "a[k1]=v1\n",
    "print(a)\n",
    "print()\n",
    "b={}\n",
    "d2=int(input(\"Enter the Number\"))\n",
    "for i in range(d1):\n",
    "    k2=input(\"Enter the Key\")\n",
    "    v2=input(\"Enter the value\")\n",
    "b[k2]=v2\n",
    "print(a|b)\n",
    "print()\n",
    "# print({**a,**b})\n",
    "# print(a)"
   ]
  },
  {
   "cell_type": "markdown",
   "metadata": {},
   "source": [
    "### 03) WAP to find tuples that have all elements divisible by K from a list of tuples."
   ]
  },
  {
   "cell_type": "code",
   "execution_count": 2,
   "metadata": {},
   "outputs": [
    {
     "name": "stdout",
     "output_type": "stream",
     "text": [
      "2 4 6\n"
     ]
    }
   ],
   "source": [
    "li=[(5,6,7),(1,2,3),(2,4,6)]\n",
    "\n",
    "for a,b,c in li:\n",
    "    if a%2==0 and b%2==0 and c%2==0:\n",
    "        print(a,b,c)"
   ]
  },
  {
   "cell_type": "markdown",
   "metadata": {},
   "source": [
    "### 04) WAP to find Tuples with positive elements in List of tuples."
   ]
  },
  {
   "cell_type": "code",
   "execution_count": 3,
   "metadata": {},
   "outputs": [
    {
     "name": "stdout",
     "output_type": "stream",
     "text": [
      "5 6 7\n",
      "1 2 3\n",
      "2 4 6\n"
     ]
    }
   ],
   "source": [
    "li=[(5,6,7),(1,2,3),(2,4,6)]\n",
    "\n",
    "for a,b,c in li:\n",
    "    if a>=0 and b>=0 and c>=0:\n",
    "        print(a,b,c)"
   ]
  },
  {
   "cell_type": "markdown",
   "metadata": {},
   "source": [
    "### 05) WAP which perform union of two sets."
   ]
  },
  {
   "cell_type": "code",
   "execution_count": 30,
   "metadata": {},
   "outputs": [
    {
     "name": "stdout",
     "output_type": "stream",
     "text": [
      "{1, 2, 3, 4, 5}\n"
     ]
    }
   ],
   "source": [
    "a = {1, 2 , 3}\n",
    "b = {4, 3, 5}\n",
    "c = a.union(b)\n",
    "print(c)"
   ]
  },
  {
   "cell_type": "markdown",
   "metadata": {},
   "source": [
    "# B"
   ]
  },
  {
   "cell_type": "markdown",
   "metadata": {},
   "source": [
    "### 01) WAP to convert binary tuple into integer."
   ]
  },
  {
   "cell_type": "code",
   "execution_count": 4,
   "metadata": {},
   "outputs": [
    {
     "data": {
      "text/plain": [
       "5"
      ]
     },
     "execution_count": 4,
     "metadata": {},
     "output_type": "execute_result"
    }
   ],
   "source": [
    "tup=(\"1\",\"0\",\"1\")\n",
    "str = \"\".join(tup)\n",
    "n = int(str,2)\n",
    "n"
   ]
  },
  {
   "cell_type": "markdown",
   "metadata": {},
   "source": [
    "### 02) WAP to count frequency in list by dictionary."
   ]
  },
  {
   "cell_type": "code",
   "execution_count": 29,
   "metadata": {},
   "outputs": [
    {
     "name": "stdout",
     "output_type": "stream",
     "text": [
      "Enter no of elements : 5\n",
      "Enter element : jay rachchh\n",
      "Enter element : j\n",
      "Enter element : a\n",
      "Enter element : ay\n",
      "Enter element : r\n",
      "{'jay rachchh': 1, 'j': 1, 'a': 1, 'ay': 1, 'r': 1}\n"
     ]
    }
   ],
   "source": [
    "n = int(input(\"Enter no of elements : \"))\n",
    "li=[]\n",
    "for i in range(n):\n",
    "      li.append(input(\"Enter element : \"))\n",
    "  \n",
    "dict1 = {}\n",
    "for i in li:\n",
    "    if i in dict1:\n",
    "        dict1[i]+=1\n",
    "    else:\n",
    "        dict1[i]=1  \n",
    "\n",
    "print(dict1)    "
   ]
  },
  {
   "cell_type": "markdown",
   "metadata": {},
   "source": [
    "### 03) WAP to remove all the duplicate words from the list using dictionary."
   ]
  },
  {
   "cell_type": "code",
   "execution_count": 30,
   "metadata": {},
   "outputs": [
    {
     "name": "stdout",
     "output_type": "stream",
     "text": [
      "Enter no of elements : 5\n",
      "Enter element : j\n",
      "Enter element : j\n",
      "Enter element : a\n",
      "Enter element : a\n",
      "Enter element : y\n",
      "['j', 'a', 'y']\n",
      "['j', 'a', 'y']\n"
     ]
    }
   ],
   "source": [
    "n = int(input(\"Enter no of elements : \"))\n",
    "li=[]\n",
    "for i in range(n):\n",
    "    li.append(input(\"Enter element : \"))\n",
    "li2=[]\n",
    "dict1 = {}\n",
    "for i in li:\n",
    "    if i in dict1: \n",
    "        continue\n",
    "    else:\n",
    "        li2.append(i)\n",
    "        dict1[i]=1  \n",
    "\n",
    "print(li2)\n",
    "\n",
    "# OR\n",
    "\n",
    "dict1 = dict.fromkeys(li,1)\n",
    "li = list(dict1.keys())\n",
    "print(li)"
   ]
  }
 ],
 "metadata": {
  "kernelspec": {
   "display_name": "Python 3 (ipykernel)",
   "language": "python",
   "name": "python3"
  },
  "language_info": {
   "codemirror_mode": {
    "name": "ipython",
    "version": 3
   },
   "file_extension": ".py",
   "mimetype": "text/x-python",
   "name": "python",
   "nbconvert_exporter": "python",
   "pygments_lexer": "ipython3",
   "version": "3.9.13"
  }
 },
 "nbformat": 4,
 "nbformat_minor": 4
}
