{
 "cells": [
  {
   "cell_type": "markdown",
   "metadata": {},
   "source": [
    "\n",
    "<a href='https://www.darshan.ac.in/'> <img src='https://www.darshan.ac.in/Content/media/DU_Logo.svg' width=\"250\" height=\"300\"/></a>\n",
    "<pre>\n",
    "<center><b><h1>Python Programming - 2101CS405</b></center>\n",
    "<center><b><h1>Lab - 3</b></center>    \n",
    "<pre>"
   ]
  },
  {
   "cell_type": "markdown",
   "metadata": {},
   "source": [
    "# for and while loop"
   ]
  },
  {
   "cell_type": "markdown",
   "metadata": {},
   "source": [
    "# A"
   ]
  },
  {
   "cell_type": "markdown",
   "metadata": {},
   "source": [
    "### 01) WAP to print 1 to 10"
   ]
  },
  {
   "cell_type": "code",
   "execution_count": 55,
   "metadata": {},
   "outputs": [
    {
     "name": "stdout",
     "output_type": "stream",
     "text": [
      "Number is  1\n",
      "Number is  2\n",
      "Number is  3\n",
      "Number is  4\n",
      "Number is  5\n",
      "Number is  6\n",
      "Number is  7\n",
      "Number is  8\n",
      "Number is  9\n",
      "Number is  10\n"
     ]
    }
   ],
   "source": [
    "for i in range(1,10+1):\n",
    "    print(\"Number is \",i)"
   ]
  },
  {
   "cell_type": "markdown",
   "metadata": {},
   "source": [
    "### 02) WAP to print 1 to n"
   ]
  },
  {
   "cell_type": "code",
   "execution_count": 57,
   "metadata": {},
   "outputs": [
    {
     "name": "stdout",
     "output_type": "stream",
     "text": [
      "Enter the number n8\n",
      "Number is 1\n",
      "Number is 2\n",
      "Number is 3\n",
      "Number is 4\n",
      "Number is 5\n",
      "Number is 6\n",
      "Number is 7\n",
      "Number is 8\n"
     ]
    }
   ],
   "source": [
    "n=int(input(\"Enter the number n\"))\n",
    "for i in range(1,n+1):\n",
    "    print(\"Number is\",i)"
   ]
  },
  {
   "cell_type": "markdown",
   "metadata": {},
   "source": [
    "### 03) WAP to print odd numbers between 1 to n"
   ]
  },
  {
   "cell_type": "code",
   "execution_count": 58,
   "metadata": {},
   "outputs": [
    {
     "name": "stdout",
     "output_type": "stream",
     "text": [
      "Enter the Number13\n",
      "1\n",
      "3\n",
      "5\n",
      "7\n",
      "9\n",
      "11\n",
      "13\n"
     ]
    }
   ],
   "source": [
    "a=int(input(\"Enter the Number\"))\n",
    "for i in range(1,a+1):\n",
    "    if(i%2!=0):\n",
    "        print(i)"
   ]
  },
  {
   "cell_type": "markdown",
   "metadata": {},
   "source": [
    "### 04) WAP to print numbers between two given numbers which is divisible by 2 but not divisible by 3"
   ]
  },
  {
   "cell_type": "code",
   "execution_count": 64,
   "metadata": {},
   "outputs": [
    {
     "name": "stdout",
     "output_type": "stream",
     "text": [
      "Enter the number a10\n",
      "Enter the number b20\n",
      "10\n",
      "14\n",
      "16\n",
      "20\n"
     ]
    }
   ],
   "source": [
    "a=int(input(\"Enter the number a\"))\n",
    "b=int(input(\"Enter the number b\"))\n",
    "min=a if a<b else b\n",
    "max=a if a>b else b\n",
    "for i in range(min,max+1): \n",
    "    if(i%2==0 and i%3!=0):\n",
    "        print(i)"
   ]
  },
  {
   "cell_type": "markdown",
   "metadata": {},
   "source": [
    "### 05) WAP to print sum of 1 to n numbers"
   ]
  },
  {
   "cell_type": "code",
   "execution_count": 65,
   "metadata": {},
   "outputs": [
    {
     "name": "stdout",
     "output_type": "stream",
     "text": [
      "Enter the Number a10\n",
      "55\n"
     ]
    }
   ],
   "source": [
    "a=int(input(\"Enter the Number a\"))\n",
    "sum=0\n",
    "for i in range(1,a+1):\n",
    "    sum=sum+i\n",
    "print(sum)"
   ]
  },
  {
   "cell_type": "markdown",
   "metadata": {},
   "source": [
    "### 06) WAP to print sum of series 1 + 4 + 9 + 16 + 25 + 36 + ...n"
   ]
  },
  {
   "cell_type": "code",
   "execution_count": 66,
   "metadata": {},
   "outputs": [
    {
     "name": "stdout",
     "output_type": "stream",
     "text": [
      "Enter the number n3\n",
      "Sum is 14\n"
     ]
    }
   ],
   "source": [
    "n=int(input(\"Enter the number n\"))\n",
    "sum=0\n",
    "for i in range(1,n+1):\n",
    "    sqr=i*i\n",
    "    sum=sum+sqr\n",
    "print(\"Sum is\",sum)"
   ]
  },
  {
   "cell_type": "markdown",
   "metadata": {},
   "source": [
    "### 07) WAP to print sum of series 1 – 2 + 3 – 4 + 5 – 6 + 7 ... n"
   ]
  },
  {
   "cell_type": "code",
   "execution_count": 67,
   "metadata": {},
   "outputs": [
    {
     "name": "stdout",
     "output_type": "stream",
     "text": [
      "Enter the Number a5\n",
      "Sum is 3\n"
     ]
    }
   ],
   "source": [
    "a=int(input(\"Enter the Number a\"))\n",
    "sum=0\n",
    "for i in range (1,a+1):\n",
    "    if(i%2==0):\n",
    "        sum=sum-i\n",
    "    else:\n",
    "        sum=sum+i\n",
    "print(\"Sum is\",sum)"
   ]
  },
  {
   "cell_type": "markdown",
   "metadata": {},
   "source": [
    "### 08) WAP to print multiplication table of given number."
   ]
  },
  {
   "cell_type": "code",
   "execution_count": 64,
   "metadata": {},
   "outputs": [
    {
     "name": "stdout",
     "output_type": "stream",
     "text": [
      "Enter the Number a5\n",
      "5 * 1 = 5\n",
      "5 * 2 = 10\n",
      "5 * 3 = 15\n",
      "5 * 4 = 20\n",
      "5 * 5 = 25\n",
      "5 * 6 = 30\n",
      "5 * 7 = 35\n",
      "5 * 8 = 40\n",
      "5 * 9 = 45\n",
      "5 * 10 = 50\n"
     ]
    }
   ],
   "source": [
    "a=int(input(\"Enter the Number a\"))\n",
    "for i in range (1,10+1):\n",
    "    print(a,'*',i,'=',a*i)"
   ]
  },
  {
   "cell_type": "markdown",
   "metadata": {},
   "source": [
    "### 09) WAP to find factorial of the given number"
   ]
  },
  {
   "cell_type": "code",
   "execution_count": 65,
   "metadata": {},
   "outputs": [
    {
     "name": "stdout",
     "output_type": "stream",
     "text": [
      "Enter the Number a5\n",
      "Factorial is 120\n"
     ]
    }
   ],
   "source": [
    "a=int(input(\"Enter the Number a\"))\n",
    "fact=1\n",
    "for i in range (1,a+1):\n",
    "    fact=fact*i\n",
    "print(\"Factorial is\",fact)"
   ]
  },
  {
   "cell_type": "markdown",
   "metadata": {},
   "source": [
    "### 10) WAP to find factors of the given number"
   ]
  },
  {
   "cell_type": "code",
   "execution_count": 68,
   "metadata": {},
   "outputs": [
    {
     "name": "stdout",
     "output_type": "stream",
     "text": [
      "Enter the number a6\n",
      "1\n",
      "2\n",
      "3\n",
      "6\n"
     ]
    }
   ],
   "source": [
    "a=int(input(\"Enter the number a\"))\n",
    "for i in range(1,a+1):\n",
    "    if(a%i==0):\n",
    "        print(i)"
   ]
  },
  {
   "cell_type": "markdown",
   "metadata": {},
   "source": [
    "### 11) WAP to find whether the given number is prime or not."
   ]
  },
  {
   "cell_type": "code",
   "execution_count": 72,
   "metadata": {},
   "outputs": [
    {
     "name": "stdout",
     "output_type": "stream",
     "text": [
      "Enter the Number a11\n",
      "number is prime\n",
      "Using For Else Loop\n",
      "number is prime\n"
     ]
    }
   ],
   "source": [
    "a=int(input(\"Enter the Number a\"))\n",
    "f=0\n",
    "for i in range(2,a):\n",
    "    if(a%i==0):\n",
    "        f=f+1\n",
    "        break;\n",
    "if(f==0):\n",
    "    print(\"number is prime\")\n",
    "else:\n",
    "    print(\"number is not prime\")\n",
    "## For else\n",
    "print(\"Using For Else Loop\")\n",
    "for i in range(2,a):\n",
    "    if(a%i==0):\n",
    "        print(\"number is not prime\")\n",
    "        break;\n",
    "else:\n",
    "    print(\"number is prime\")"
   ]
  },
  {
   "cell_type": "markdown",
   "metadata": {},
   "source": [
    "### 12) WAP to print sum of digits of given number"
   ]
  },
  {
   "cell_type": "code",
   "execution_count": 18,
   "metadata": {},
   "outputs": [
    {
     "name": "stdout",
     "output_type": "stream",
     "text": [
      "Enter the number a123\n",
      "6\n"
     ]
    }
   ],
   "source": [
    "a=int(input(\"Enter the number a\"))\n",
    "sum=0\n",
    "rem \n",
    "while(a>0):\n",
    "    rem=a%10\n",
    "    sum=sum+rem\n",
    "    a=a/10\n",
    "print(int(sum))"
   ]
  },
  {
   "cell_type": "markdown",
   "metadata": {},
   "source": [
    "### 13) WAP to check whether the given number is palindrome or not"
   ]
  },
  {
   "cell_type": "code",
   "execution_count": 48,
   "metadata": {},
   "outputs": [
    {
     "name": "stdout",
     "output_type": "stream",
     "text": [
      "Enter the number a 121\n",
      "Palindrome Number\n"
     ]
    }
   ],
   "source": [
    "a=int(input(\"Enter the number a \"))\n",
    "temp=a\n",
    "sum=0\n",
    "while(a>0):\n",
    "    rem=a%10\n",
    "    sum=sum*10+rem\n",
    "    a=a//10\n",
    "if(temp==sum):\n",
    "    print(\"Palindrome Number\")\n",
    "else:\n",
    "    print(\"Not Palindrome Number\") "
   ]
  },
  {
   "cell_type": "markdown",
   "metadata": {},
   "source": [
    "# B"
   ]
  },
  {
   "cell_type": "markdown",
   "metadata": {},
   "source": [
    "### 01) WAP to check whether the given number is Armstrong or not."
   ]
  },
  {
   "cell_type": "code",
   "execution_count": 68,
   "metadata": {},
   "outputs": [
    {
     "name": "stdout",
     "output_type": "stream",
     "text": [
      "Enter the Number a153\n",
      "153 Number is Armstrong\n"
     ]
    }
   ],
   "source": [
    "a=int(input(\"Enter the Number a\"))\n",
    "le=len(str(a))\n",
    "sum=0\n",
    "temp=a\n",
    "while(a>0):\n",
    "    rem=a%10\n",
    "    sum=sum+rem**le\n",
    "    a=a//10\n",
    "if(temp==sum):\n",
    "    print(sum,\"Number is Armstrong\")\n",
    "else:\n",
    "    print(sum,\"Number Is Not Armstrong\")"
   ]
  },
  {
   "cell_type": "markdown",
   "metadata": {},
   "source": [
    "### 02) WAP to find out prime numbers between given two numbers."
   ]
  },
  {
   "cell_type": "code",
   "execution_count": 202,
   "metadata": {},
   "outputs": [
    {
     "name": "stdout",
     "output_type": "stream",
     "text": [
      "Enter the Number1\n",
      "Enter the Number20\n",
      "Using For Else Loop\n",
      "Prime Number is\n",
      "1\n",
      "2\n",
      "3\n",
      "5\n",
      "7\n",
      "11\n",
      "13\n",
      "17\n",
      "19\n"
     ]
    }
   ],
   "source": [
    "a=int(input(\"Enter the Number\"))\n",
    "b=int(input(\"Enter the Number\"))\n",
    "print(\"Prime Number is\")\n",
    "for i in range(a,b):\n",
    "    for j in range(2,i):\n",
    "          if(i%j==0):\n",
    "                break;\n",
    "    else:\n",
    "        print(i)"
   ]
  },
  {
   "cell_type": "markdown",
   "metadata": {},
   "source": [
    "### 03) WAP to calculate x^y without using any function."
   ]
  },
  {
   "cell_type": "code",
   "execution_count": 204,
   "metadata": {},
   "outputs": [
    {
     "name": "stdout",
     "output_type": "stream",
     "text": [
      "Enter the Number X5\n",
      "Enter the Number Y6\n",
      "Answer is 15625\n"
     ]
    }
   ],
   "source": [
    "x=int(input(\"Enter the Number X\"))\n",
    "y=int(input(\"Enter the Number Y\"))\n",
    "ans=x**y\n",
    "print(\"Answer is\",ans)"
   ]
  },
  {
   "cell_type": "markdown",
   "metadata": {},
   "source": [
    "### 04) WAP to check whether the given number is perfect or not.\n",
    "[Sum of factors including 1 excluding number itself]"
   ]
  },
  {
   "cell_type": "code",
   "execution_count": 17,
   "metadata": {},
   "outputs": [
    {
     "name": "stdout",
     "output_type": "stream",
     "text": [
      "Enter the number a496\n",
      "Factor is  1\n",
      "Factor is  2\n",
      "Factor is  4\n",
      "Factor is  8\n",
      "Factor is  16\n",
      "Factor is  31\n",
      "Factor is  62\n",
      "Factor is  124\n",
      "Factor is  248\n",
      "496 Number Is Perfect\n"
     ]
    }
   ],
   "source": [
    "a=int(input(\"Enter the number a\"))\n",
    "sum=0\n",
    "for i in range(1,a):\n",
    "    if(a%i==0):\n",
    "        print(\"Factor is \",i)\n",
    "        sum=sum+i\n",
    "if(a==sum):\n",
    "    print(a,\"Number Is Perfect\")\n",
    "else:\n",
    "    print(a,\"Number Is Not Perfect\")"
   ]
  },
  {
   "cell_type": "markdown",
   "metadata": {},
   "source": [
    "### 05) WAP to find the sum of 1 + (1+2) + (1+2+3) + (1+2+3+4)+...+(1+2+3+4+....+n)"
   ]
  },
  {
   "cell_type": "code",
   "execution_count": 23,
   "metadata": {},
   "outputs": [
    {
     "name": "stdout",
     "output_type": "stream",
     "text": [
      "Enter the Number3\n",
      "10\n"
     ]
    }
   ],
   "source": [
    "a=int(input(\"Enter the Number\"))\n",
    "sum=0\n",
    "for i in range(1,a+1):\n",
    "    for j in range(1,i+1):\n",
    "        sum=sum+j\n",
    "print(sum)"
   ]
  },
  {
   "cell_type": "markdown",
   "metadata": {},
   "source": [
    "### 06) WAP to print Multiplication Table up to n"
   ]
  },
  {
   "cell_type": "code",
   "execution_count": 206,
   "metadata": {},
   "outputs": [
    {
     "name": "stdout",
     "output_type": "stream",
     "text": [
      "Enter the Number a5\n",
      "Enter the Range20\n",
      "5 * 1 = 5\n",
      "5 * 2 = 10\n",
      "5 * 3 = 15\n",
      "5 * 4 = 20\n",
      "5 * 5 = 25\n",
      "5 * 6 = 30\n",
      "5 * 7 = 35\n",
      "5 * 8 = 40\n",
      "5 * 9 = 45\n",
      "5 * 10 = 50\n",
      "5 * 11 = 55\n",
      "5 * 12 = 60\n",
      "5 * 13 = 65\n",
      "5 * 14 = 70\n",
      "5 * 15 = 75\n",
      "5 * 16 = 80\n",
      "5 * 17 = 85\n",
      "5 * 18 = 90\n",
      "5 * 19 = 95\n",
      "5 * 20 = 100\n"
     ]
    }
   ],
   "source": [
    "a=int(input(\"Enter the Number a\"))\n",
    "n=int(input(\"Enter the Range\"))\n",
    "for i in range (1,n+1):\n",
    "    print(a,'*',i,'=',a*i)"
   ]
  }
 ],
 "metadata": {
  "kernelspec": {
   "display_name": "Python 3 (ipykernel)",
   "language": "python",
   "name": "python3"
  },
  "language_info": {
   "codemirror_mode": {
    "name": "ipython",
    "version": 3
   },
   "file_extension": ".py",
   "mimetype": "text/x-python",
   "name": "python",
   "nbconvert_exporter": "python",
   "pygments_lexer": "ipython3",
   "version": "3.9.13"
  }
 },
 "nbformat": 4,
 "nbformat_minor": 4
}
