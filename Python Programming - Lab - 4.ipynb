{
 "cells": [
  {
   "cell_type": "markdown",
   "metadata": {},
   "source": [
    "\n",
    "<a href='https://www.darshan.ac.in/'> <img src='https://www.darshan.ac.in/Content/media/DU_Logo.svg' width=\"250\" height=\"300\"/></a>\n",
    "<pre>\n",
    "<center><b><h1>Python Programming - 2101CS405</b></center>\n",
    "<center><b><h1>Lab - 4</b></center>    \n",
    "<pre>"
   ]
  },
  {
   "cell_type": "markdown",
   "metadata": {},
   "source": [
    "# String"
   ]
  },
  {
   "cell_type": "markdown",
   "metadata": {},
   "source": [
    "### 01) WAP to check given string is palindrome or not."
   ]
  },
  {
   "cell_type": "code",
   "execution_count": 3,
   "metadata": {},
   "outputs": [
    {
     "name": "stdout",
     "output_type": "stream",
     "text": [
      "Enter the Stringjay\n",
      "jay String is not Palindome\n"
     ]
    }
   ],
   "source": [
    "a=input(\"Enter the String\")\n",
    "b=a[::-1]\n",
    "if(a==b):\n",
    "    print(f\"{a} string is Palimdome\")\n",
    "else:\n",
    "    print(f\"{a} String is not Palindome\")\n"
   ]
  },
  {
   "cell_type": "markdown",
   "metadata": {},
   "source": [
    "### 02) WAP to reverse the words in given string."
   ]
  },
  {
   "cell_type": "code",
   "execution_count": 17,
   "metadata": {},
   "outputs": [
    {
     "name": "stdout",
     "output_type": "stream",
     "text": [
      "Enter the Stringabc\n",
      "cba"
     ]
    }
   ],
   "source": [
    "a=input(\"Enter the String\")\n",
    "for i in a[::-1]:\n",
    "    print(i,end=\"\")\n"
   ]
  },
  {
   "cell_type": "markdown",
   "metadata": {},
   "source": [
    "### 03) WAP to remove ith character from given string"
   ]
  },
  {
   "cell_type": "code",
   "execution_count": 58,
   "metadata": {},
   "outputs": [
    {
     "name": "stdout",
     "output_type": "stream",
     "text": [
      "enter the String abcd\n",
      "Enter the charcter b\n",
      "acd\n"
     ]
    }
   ],
   "source": [
    "a=input(\"enter the String \")\n",
    "b=input(\"Enter the charcter \")\n",
    "c=a.find(b)\n",
    "y=a[0:c:]\n",
    "y1=a[c+1::]\n",
    "print(\"{str}{str1}\".format(str=y,str1=y1));\n"
   ]
  },
  {
   "cell_type": "markdown",
   "metadata": {},
   "source": [
    "### 04) WAP to find length of String without using len function."
   ]
  },
  {
   "cell_type": "code",
   "execution_count": 5,
   "metadata": {},
   "outputs": [
    {
     "name": "stdout",
     "output_type": "stream",
     "text": [
      "Enter the String jay\n",
      "3 is length of String\n"
     ]
    }
   ],
   "source": [
    "a=input(\"Enter the String \")\n",
    "count=0\n",
    "for i in a:\n",
    "    count=count+1\n",
    "# print(count)\n",
    "print(f\"{count} is length of String\");"
   ]
  },
  {
   "cell_type": "markdown",
   "metadata": {},
   "source": [
    "### 05) WAP to print even length word in string."
   ]
  },
  {
   "cell_type": "code",
   "execution_count": 6,
   "metadata": {},
   "outputs": [
    {
     "name": "stdout",
     "output_type": "stream",
     "text": [
      "Enter the String jay\n",
      "jy\n"
     ]
    }
   ],
   "source": [
    "a=input(\"Enter the String \")\n",
    "print(f\"{a[0::2]}\")"
   ]
  },
  {
   "cell_type": "markdown",
   "metadata": {},
   "source": [
    "### 06) WAP to count numbers of vowels in given string."
   ]
  },
  {
   "cell_type": "code",
   "execution_count": 7,
   "metadata": {},
   "outputs": [
    {
     "name": "stdout",
     "output_type": "stream",
     "text": [
      "ENter the Stringjay\n",
      "Nummber Of vowel in jay is 1\n"
     ]
    }
   ],
   "source": [
    "a=input(\"ENter the String\")\n",
    "c=0\n",
    "for i in a.lower():\n",
    "    if i=='a'or i=='e' or i=='i' or i=='o' or i=='u':\n",
    "        c=c+1\n",
    "print(f\"Nummber Of vowel in {a} is {c}\")"
   ]
  },
  {
   "cell_type": "markdown",
   "metadata": {},
   "source": [
    "### 07) WAP to convert given array to string."
   ]
  },
  {
   "cell_type": "code",
   "execution_count": 10,
   "metadata": {},
   "outputs": [
    {
     "name": "stdout",
     "output_type": "stream",
     "text": [
      "Jay Rachchh\n"
     ]
    }
   ],
   "source": [
    "list=[\"Jay\",\"Rachchh\"]\n",
    "print(\" \".join(list))"
   ]
  },
  {
   "cell_type": "markdown",
   "metadata": {},
   "source": [
    "### 01) WAP to find out duplicate characters in given string."
   ]
  },
  {
   "cell_type": "code",
   "execution_count": 1,
   "metadata": {},
   "outputs": [
    {
     "name": "stdout",
     "output_type": "stream",
     "text": [
      "Enter a string : hello\n",
      "Repeated characters :  l,"
     ]
    }
   ],
   "source": [
    "str = input(\"Enter a string : \")\n",
    "temp,count=\"\",0\n",
    "\n",
    "print(\"Repeated characters : \",end=\" \")\n",
    "for i in str:\n",
    "    if(temp.find(i)==-1):\n",
    "        for j in str[str.index(i)+1:]:\n",
    "            if(i==j):\n",
    "                temp+=i\n",
    "                count+=1   \n",
    "    if count>0:\n",
    "        print(i,end=\",\")\n",
    "    count=0"
   ]
  },
  {
   "cell_type": "markdown",
   "metadata": {},
   "source": [
    "### 02) WAP to capitalize the first and last character of each word in a string."
   ]
  },
  {
   "cell_type": "code",
   "execution_count": 2,
   "metadata": {},
   "outputs": [
    {
     "name": "stdout",
     "output_type": "stream",
     "text": [
      "Enter a string : jay rachchh\n",
      "JaY RachchH "
     ]
    }
   ],
   "source": [
    "str = input(\"Enter a string : \")\n",
    "list = str.split(\" \")\n",
    "for i in list:\n",
    "    print(i[0:1].title()+i[1:len(i)-1]+(i[len(i)-1].title() if(len(i)>1) else \"\") ,end=\" \")"
   ]
  },
  {
   "cell_type": "markdown",
   "metadata": {},
   "source": [
    "### 03) WAP to find Maximum frequency character in String."
   ]
  },
  {
   "cell_type": "code",
   "execution_count": 3,
   "metadata": {},
   "outputs": [
    {
     "name": "stdout",
     "output_type": "stream",
     "text": [
      "Enter a string : jay rachchh\n",
      "h\n"
     ]
    }
   ],
   "source": [
    "str = input(\"Enter a string : \")\n",
    "f = {}\n",
    "for i in str:\n",
    "    if i in f:\n",
    "        f[i]+=1\n",
    "    else:\n",
    "        f[i]=1\n",
    "print(max(f,key = f.get))"
   ]
  },
  {
   "cell_type": "markdown",
   "metadata": {},
   "source": [
    "### 04) WAP to find Minimum frequency character in String."
   ]
  },
  {
   "cell_type": "code",
   "execution_count": 4,
   "metadata": {},
   "outputs": [
    {
     "name": "stdout",
     "output_type": "stream",
     "text": [
      "Enter a string : jay rachchh\n",
      "j\n"
     ]
    }
   ],
   "source": [
    "str = input(\"Enter a string : \")\n",
    "f={}\n",
    "for i in str:\n",
    "    if i in f:\n",
    "        f[i]+=1\n",
    "    else:\n",
    "        f[i]=1\n",
    "print(min(f,key = f.get))\n"
   ]
  },
  {
   "cell_type": "markdown",
   "metadata": {},
   "source": [
    "### 05) WAP to check if a given string is binary string or not"
   ]
  },
  {
   "cell_type": "code",
   "execution_count": 5,
   "metadata": {},
   "outputs": [
    {
     "name": "stdout",
     "output_type": "stream",
     "text": [
      "Enter a string : jay\n",
      "jay is not binary string\n"
     ]
    }
   ],
   "source": [
    "str = input(\"Enter a string : \")\n",
    "for i in str:\n",
    "    if not(i=='1' or i=='0'):\n",
    "        print(f\"{str} is not binary string\")\n",
    "        break\n",
    "else:\n",
    "    print(f\"{str} is binary string\")"
   ]
  }
 ],
 "metadata": {
  "kernelspec": {
   "display_name": "Python 3 (ipykernel)",
   "language": "python",
   "name": "python3"
  },
  "language_info": {
   "codemirror_mode": {
    "name": "ipython",
    "version": 3
   },
   "file_extension": ".py",
   "mimetype": "text/x-python",
   "name": "python",
   "nbconvert_exporter": "python",
   "pygments_lexer": "ipython3",
   "version": "3.9.13"
  }
 },
 "nbformat": 4,
 "nbformat_minor": 4
}
