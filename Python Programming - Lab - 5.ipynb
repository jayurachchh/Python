{
 "cells": [
  {
   "cell_type": "markdown",
   "metadata": {},
   "source": [
    "\n",
    "<a href='https://www.darshan.ac.in/'> <img src='https://www.darshan.ac.in/Content/media/DU_Logo.svg' width=\"250\" height=\"300\"/></a>\n",
    "<pre>\n",
    "<center><b><h1>Python Programming - 2101CS405</b></center>\n",
    "<center><b><h1>Lab - 5</b></center>    \n",
    "<pre>"
   ]
  },
  {
   "cell_type": "markdown",
   "metadata": {},
   "source": [
    "# list"
   ]
  },
  {
   "cell_type": "markdown",
   "metadata": {},
   "source": [
    "### 01) WAP to find sum of all the elements in List."
   ]
  },
  {
   "cell_type": "code",
   "execution_count": 19,
   "metadata": {},
   "outputs": [
    {
     "name": "stdout",
     "output_type": "stream",
     "text": [
      "how many store the element in the List2\n",
      "Enter the Number1\n",
      "Enter the Number1\n",
      "[1, 1]\n",
      "2\n"
     ]
    }
   ],
   "source": [
    "l1=[]\n",
    "sum=0\n",
    "a=int(input(\"how many store the element in the List\"))\n",
    "for i in range(a):\n",
    "    l1.append(int(input(\"Enter the Number\")))\n",
    "print(l1)\n",
    "for i in l1:\n",
    "    sum=sum+i\n",
    "print(sum)"
   ]
  },
  {
   "cell_type": "markdown",
   "metadata": {},
   "source": [
    "### 02) WAP to find largest element in a List."
   ]
  },
  {
   "cell_type": "code",
   "execution_count": 95,
   "metadata": {},
   "outputs": [
    {
     "name": "stdout",
     "output_type": "stream",
     "text": [
      "how many store the element in the List2\n",
      "Enter the Number3\n",
      "Enter the Number5\n",
      "[3, 5]\n",
      "5\n"
     ]
    }
   ],
   "source": [
    "l1=[]\n",
    "a=int(input(\"how many store the element in the List\"))\n",
    "for i in range(a):\n",
    "    l1.append(int(input(\"Enter the Number\")))\n",
    "print(l1)\n",
    "max=l1[0]\n",
    "for i in l1:\n",
    "    if(i>max):\n",
    "        max = i \n",
    "print(max)"
   ]
  },
  {
   "cell_type": "markdown",
   "metadata": {},
   "source": [
    "### 03) WAP to split the List into two and append the first part to the end."
   ]
  },
  {
   "cell_type": "code",
   "execution_count": 30,
   "metadata": {},
   "outputs": [
    {
     "name": "stdout",
     "output_type": "stream",
     "text": [
      "how many store the element in the List5\n",
      "Enter the Number1\n",
      "Enter the Number2\n",
      "Enter the Number3\n",
      "Enter the Number4\n",
      "Enter the Number5\n",
      "[1, 2, 3, 4, 5]\n",
      "[3, 4, 5, 1, 2]\n"
     ]
    }
   ],
   "source": [
    "l1=[]\n",
    "a=int(input(\"how many store the element in the List\"))\n",
    "for i in range(a):\n",
    "    l1.append(int(input(\"Enter the Number\")))\n",
    "print(l1)\n",
    "b=len(l1)\n",
    "c=b//2\n",
    "l3=l1[0:c]\n",
    "l4=l1[c:a]\n",
    "print(l4+l3)\n",
    "    "
   ]
  },
  {
   "cell_type": "markdown",
   "metadata": {},
   "source": [
    "### 04) WAP to interchange first and last elements in list entered by a user."
   ]
  },
  {
   "cell_type": "code",
   "execution_count": 35,
   "metadata": {},
   "outputs": [
    {
     "name": "stdout",
     "output_type": "stream",
     "text": [
      "how many store the element in the List5\n",
      "Enter the Number1\n",
      "Enter the Number2\n",
      "Enter the Number3\n",
      "Enter the Number4\n",
      "Enter the Number5\n",
      "[1, 2, 3, 4, 5]\n",
      "[5, 2, 3, 4, 1]\n"
     ]
    }
   ],
   "source": [
    "l1=[]\n",
    "a=int(input(\"how many store the element in the List\"))\n",
    "for i in range(a):\n",
    "    l1.append(int(input(\"Enter the Number\")))\n",
    "print(l1)\n",
    "l1[0],l1[-1]=l1[-1],l1[0]\n",
    "print(l1)"
   ]
  },
  {
   "cell_type": "markdown",
   "metadata": {},
   "source": [
    "### 05) WAP to interchange the elements on two positions entered by a user."
   ]
  },
  {
   "cell_type": "code",
   "execution_count": 36,
   "metadata": {},
   "outputs": [
    {
     "name": "stdout",
     "output_type": "stream",
     "text": [
      "how many store the element in the List5\n",
      "Enter the Number1\n",
      "Enter the Number2\n",
      "Enter the Number3\n",
      "Enter the Number4\n",
      "Enter the Number5\n",
      "[1, 2, 3, 4, 5]\n",
      "Enter the first pos2\n",
      "Enter the second p-1\n",
      "[1, 2, 5, 4, 3]\n"
     ]
    }
   ],
   "source": [
    "l1=[]\n",
    "a=int(input(\"how many store the element in the List\"))\n",
    "for i in range(a):\n",
    "    l1.append(int(input(\"Enter the Number\")))\n",
    "print(l1)\n",
    "b=int(input(\"Enter the first pos\"))\n",
    "c=int(input(\"Enter the second p\"))\n",
    "l1[b],l1[c]=l1[c],l1[b]\n",
    "print(l1)"
   ]
  },
  {
   "cell_type": "markdown",
   "metadata": {},
   "source": [
    "### 06) WAP to reverses the list entered by user."
   ]
  },
  {
   "cell_type": "code",
   "execution_count": 43,
   "metadata": {},
   "outputs": [
    {
     "name": "stdout",
     "output_type": "stream",
     "text": [
      "how many store the element in the List3\n",
      "Enter the Number1\n",
      "Enter the Number2\n",
      "Enter the Number3\n",
      "[1, 2, 3]\n",
      "[3, 2, 1]\n"
     ]
    }
   ],
   "source": [
    "l1=[]\n",
    "a=int(input(\"how many store the element in the List\"))\n",
    "for i in range(a):\n",
    "    l1.append(int(input(\"Enter the Number\")))\n",
    "print(l1)\n",
    "l2=l1[::-1]\n",
    "print(l2)"
   ]
  },
  {
   "cell_type": "markdown",
   "metadata": {},
   "source": [
    "### 07) Python program to remove multiple elements from a list using list comprehension"
   ]
  },
  {
   "cell_type": "code",
   "execution_count": 52,
   "metadata": {},
   "outputs": [
    {
     "name": "stdout",
     "output_type": "stream",
     "text": [
      "how many element store5\n",
      "Enter the number1\n",
      "Enter the number2\n",
      "Enter the number3\n",
      "Enter the number4\n",
      "Enter the number5\n",
      "[1, 2, 3, 4, 5]\n"
     ]
    }
   ],
   "source": [
    "a=int(input(\"how many element store\"))\n",
    "l1=[int(input(\"Enter the number\")) for i in range(a)]\n",
    "print(l1)"
   ]
  },
  {
   "cell_type": "markdown",
   "metadata": {},
   "source": [
    "### 08) Create a list from the specified start to end index of another list."
   ]
  },
  {
   "cell_type": "code",
   "execution_count": 103,
   "metadata": {},
   "outputs": [
    {
     "name": "stdout",
     "output_type": "stream",
     "text": [
      "how many element store5\n",
      "Enter the number1\n",
      "Enter the number2\n",
      "Enter the number3\n",
      "Enter the number4\n",
      "Enter the number5\n",
      "[1, 2, 3, 4, 5]\n",
      "enter the start1\n",
      "enter the end3\n",
      "[2, 3, 4]\n"
     ]
    }
   ],
   "source": [
    "a=int(input(\"how many element store\"))\n",
    "l1=[int(input(\"Enter the number\")) for i in range(a)]\n",
    "print(l1)\n",
    "b=int(input(\"enter the start\"))\n",
    "c=int(input(\"enter the end\"))\n",
    "l2=[i for i in l1[b:c+1]]\n",
    "print(l2)"
   ]
  },
  {
   "cell_type": "markdown",
   "metadata": {},
   "source": [
    "### 09) Input comma separated elements, convert into list and print."
   ]
  },
  {
   "cell_type": "code",
   "execution_count": 81,
   "metadata": {},
   "outputs": [
    {
     "name": "stdout",
     "output_type": "stream",
     "text": [
      "enter the string1,212,12,1,2\n",
      "['1', '212', '12', '1', '2']\n",
      "[1, 212, 12, 1, 2]\n"
     ]
    }
   ],
   "source": [
    "a=input(\"enter the string\")\n",
    "l=len(a)\n",
    "b=a.split(',')\n",
    "print(b)\n",
    "l1=[int(i) for i in b]\n",
    "print(l1)"
   ]
  },
  {
   "cell_type": "markdown",
   "metadata": {},
   "source": [
    "### 01) WAP to count Even and Odd numbers in a List."
   ]
  },
  {
   "cell_type": "code",
   "execution_count": 92,
   "metadata": {},
   "outputs": [
    {
     "name": "stdout",
     "output_type": "stream",
     "text": [
      "how many element store5\n",
      "Enter the number9\n",
      "Enter the number8\n",
      "Enter the number6\n",
      "Enter the number2\n",
      "Enter the number1\n",
      "[9, 8, 6, 2, 1]\n",
      "odd 2\n",
      "even 3\n"
     ]
    }
   ],
   "source": [
    "a=int(input(\"how many element store\"))\n",
    "l1=[int(input(\"Enter the number\")) for i in range(a)]\n",
    "print(l1)\n",
    "count=0\n",
    "count1=0\n",
    "for i in l1:\n",
    "    if(i%2==0):\n",
    "        count=count+1        \n",
    "       \n",
    "    else:\n",
    "        count1=count1+1\n",
    "print(\"odd\",count1)\n",
    "print(\"even\",count)"
   ]
  },
  {
   "cell_type": "markdown",
   "metadata": {},
   "source": [
    "### 02) Python program to find N largest and smallest elements from the list"
   ]
  },
  {
   "cell_type": "code",
   "execution_count": 1,
   "metadata": {},
   "outputs": [
    {
     "name": "stdout",
     "output_type": "stream",
     "text": [
      "Enter number of element of list : 5\n",
      "Enter element : 1\n",
      "Enter element : 5\n",
      "Enter element : 9\n",
      "Enter element : 3\n",
      "Enter element : 2\n",
      "Enter n : 2\n",
      "Largest numbers :  9,5,\n",
      "Smallest numbers :  1,2,"
     ]
    }
   ],
   "source": [
    "n = int(input(\"Enter number of element of list : \"))\n",
    "li,oddcounter,evencounter = [],0,0\n",
    "for i in range(n):\n",
    "    x = int(input(\"Enter element : \"))\n",
    "    li.append(x)\n",
    "li.sort()\n",
    "n = int(input(\"Enter n : \"))\n",
    "print(\"Largest numbers : \",end=\" \")\n",
    "for i in range(n):\n",
    "    print(li[len(li)-i-1],end=\",\")\n",
    "print(\"\\nSmallest numbers : \",end=\" \")\n",
    "for i in range(n):\n",
    "    print(li[i],end=\",\")"
   ]
  },
  {
   "cell_type": "markdown",
   "metadata": {},
   "source": [
    "### 03) WAP to print duplicates from a list of integers"
   ]
  },
  {
   "cell_type": "code",
   "execution_count": 5,
   "metadata": {
    "scrolled": true
   },
   "outputs": [
    {
     "name": "stdout",
     "output_type": "stream",
     "text": [
      "how many element store5\n",
      "Enter the number1\n",
      "Enter the number1\n",
      "Enter the number2\n",
      "Enter the number2\n",
      "Enter the number5\n",
      "[1, 1, 2, 2, 5]\n",
      "[1, 2]\n"
     ]
    }
   ],
   "source": [
    "a=int(input(\"how many element store\"))\n",
    "l1=[int(input(\"Enter the number\")) for i in range(a)]\n",
    "print(l1)\n",
    "ul=[]\n",
    "dl=[]\n",
    "for i in l1:\n",
    "    if i not in ul:\n",
    "        ul.append(i)\n",
    "    elif i not in dl:\n",
    "        dl.append(i)\n",
    "print(dl)"
   ]
  }
 ],
 "metadata": {
  "kernelspec": {
   "display_name": "Python 3 (ipykernel)",
   "language": "python",
   "name": "python3"
  },
  "language_info": {
   "codemirror_mode": {
    "name": "ipython",
    "version": 3
   },
   "file_extension": ".py",
   "mimetype": "text/x-python",
   "name": "python",
   "nbconvert_exporter": "python",
   "pygments_lexer": "ipython3",
   "version": "3.9.13"
  }
 },
 "nbformat": 4,
 "nbformat_minor": 4
}
