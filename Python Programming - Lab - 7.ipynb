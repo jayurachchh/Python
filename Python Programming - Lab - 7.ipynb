{
 "cells": [
  {
   "cell_type": "markdown",
   "metadata": {},
   "source": [
    "<a href='https://www.darshan.ac.in/'> <img src='https://www.darshan.ac.in/Content/media/DU_Logo.svg' width=\"250\" height=\"300\"/></a>\n",
    "<pre>\n",
    "<center><b><h1>Python Programming - 2101CS405</b></center>\n",
    "<center><b><h1>Lab - 7</b></center>    \n",
    "<pre>"
   ]
  },
  {
   "cell_type": "markdown",
   "metadata": {},
   "source": [
    "# Functions"
   ]
  },
  {
   "cell_type": "markdown",
   "metadata": {},
   "source": [
    "### 01) WAP to count simple interest using function."
   ]
  },
  {
   "cell_type": "code",
   "execution_count": 1,
   "metadata": {},
   "outputs": [
    {
     "name": "stdout",
     "output_type": "stream",
     "text": [
      "Enter the P5000\n",
      "Enter the R2\n",
      "Enter the N12\n",
      "1200.0\n"
     ]
    }
   ],
   "source": [
    "p=int(input(\"Enter the P\"))\n",
    "r=int(input(\"Enter the R\"))\n",
    "n=int(input(\"Enter the N\"))\n",
    "def interest(p,r,n):\n",
    "    i=((p*r*n)/100)\n",
    "    print(i)\n",
    "interest(p,r,n)\n",
    "    "
   ]
  },
  {
   "cell_type": "markdown",
   "metadata": {},
   "source": [
    "### 02) WAP that defines a function to add first n numbers."
   ]
  },
  {
   "cell_type": "code",
   "execution_count": 4,
   "metadata": {},
   "outputs": [
    {
     "name": "stdout",
     "output_type": "stream",
     "text": [
      "Enter the a=5\n",
      "15\n"
     ]
    }
   ],
   "source": [
    "a=int(input(\"Enter the a=\"))\n",
    "def num(n, sum=0):\n",
    "    for i in range (1,n+1):\n",
    "        sum=sum+i\n",
    "    print(sum)\n",
    "num(a)"
   ]
  },
  {
   "cell_type": "markdown",
   "metadata": {},
   "source": [
    "### 03) WAP to find maximum number from given two numbers using function."
   ]
  },
  {
   "cell_type": "code",
   "execution_count": 5,
   "metadata": {},
   "outputs": [
    {
     "name": "stdout",
     "output_type": "stream",
     "text": [
      "Enter the c15\n",
      "Enter the d20\n",
      "20\n"
     ]
    }
   ],
   "source": [
    "c=int(input(\"Enter the c\"))\n",
    "d=int(input(\"Enter the d\"))\n",
    "def max(a,b):\n",
    "    if(a>b):\n",
    "        print(a)\n",
    "    else:\n",
    "        print(b)\n",
    "max(c,d)"
   ]
  },
  {
   "cell_type": "markdown",
   "metadata": {},
   "source": [
    "### 04) WAP that defines a function which returns 1 if the number is prime otherwise return 0."
   ]
  },
  {
   "cell_type": "code",
   "execution_count": 7,
   "metadata": {},
   "outputs": [
    {
     "name": "stdout",
     "output_type": "stream",
     "text": [
      "Enter the P6\n"
     ]
    },
    {
     "data": {
      "text/plain": [
       "0"
      ]
     },
     "execution_count": 7,
     "metadata": {},
     "output_type": "execute_result"
    }
   ],
   "source": [
    "p=int(input(\"Enter the P=\"))\n",
    "def prime(n):\n",
    "    for i in range(2,n):\n",
    "        if(n%i==0):\n",
    "            return 0;\n",
    "            break;\n",
    "    else:\n",
    "        return 1;\n",
    "prime(p)"
   ]
  },
  {
   "cell_type": "markdown",
   "metadata": {},
   "source": [
    "### 05) Write a function called primes that takes an integer value as an argument and returns a list of all prime numbers up to that number."
   ]
  },
  {
   "cell_type": "code",
   "execution_count": 9,
   "metadata": {},
   "outputs": [
    {
     "name": "stdout",
     "output_type": "stream",
     "text": [
      "Enter the Start num1\n",
      "Enter the end number5\n",
      "1\n",
      "2\n",
      "3\n"
     ]
    }
   ],
   "source": [
    "c=int(input(\"Enter the Start num\"))\n",
    "d=int(input(\"Enter the end number\"))\n",
    "def prime(a,b):\n",
    "    for i in range(a,b):\n",
    "        for j in range(2,i):\n",
    "            if(i%j==0):\n",
    "                break;\n",
    "        else:\n",
    "            print(i)\n",
    "prime(c,d)"
   ]
  },
  {
   "cell_type": "markdown",
   "metadata": {},
   "source": [
    "### 06) WAP to generate Fibonacci series of N given number using function name fibbo. (e.g. 0 1 1 2 3 5 8...)"
   ]
  },
  {
   "cell_type": "code",
   "execution_count": 11,
   "metadata": {},
   "outputs": [
    {
     "name": "stdout",
     "output_type": "stream",
     "text": [
      "Enter the a=10\n",
      "0\n",
      "1\n",
      "1\n",
      "2\n",
      "3\n",
      "5\n",
      "8\n",
      "13\n",
      "21\n",
      "34\n"
     ]
    }
   ],
   "source": [
    "a=int(input(\"Enter the a=\"))\n",
    "def fibo(n,temp=0,j=1,k=0):\n",
    "    for i in range(0,n):\n",
    "        print(k)\n",
    "        temp=k+j\n",
    "        k=j\n",
    "        j=temp\n",
    "fibo(a)"
   ]
  },
  {
   "cell_type": "markdown",
   "metadata": {},
   "source": [
    "### 07) WAP to find the factorial of a given number using recursion."
   ]
  },
  {
   "cell_type": "code",
   "execution_count": 12,
   "metadata": {},
   "outputs": [
    {
     "name": "stdout",
     "output_type": "stream",
     "text": [
      "Enter the f5\n"
     ]
    },
    {
     "data": {
      "text/plain": [
       "120"
      ]
     },
     "execution_count": 12,
     "metadata": {},
     "output_type": "execute_result"
    }
   ],
   "source": [
    "f=int(input(\"Enter the f=\"))\n",
    "def rec(n):\n",
    "    if(n==1):\n",
    "        return 1;\n",
    "    else:\n",
    "        return n*rec(n-1)\n",
    "rec(f)"
   ]
  },
  {
   "cell_type": "markdown",
   "metadata": {},
   "source": [
    "### 08) WAP to implement simple calculator using lamda function."
   ]
  },
  {
   "cell_type": "code",
   "execution_count": 14,
   "metadata": {},
   "outputs": [
    {
     "name": "stdout",
     "output_type": "stream",
     "text": [
      "Enter the a=15\n",
      "Enter the b=10\n",
      "1.Addition 2.Subtraction 3.Multiplication 4.Division\n",
      "Enter the Choice 1\n",
      "25\n"
     ]
    }
   ],
   "source": [
    "a=int(input(\"Enter the a=\"))\n",
    "b=int(input(\"Enter the b=\"))\n",
    "print(\"1.Addition \")\n",
    "ch=int(input(\"Enter the Choice \"))\n",
    "if(ch==1):\n",
    "    add=lambda a,b:a+b\n",
    "    print(add(a,b))\n",
    "elif(ch==2):\n",
    "    sub=lambda a,b:a-b\n",
    "    print(sub(a,b))\n",
    "elif(ch==3):\n",
    "    mul=lambda a,b:a*b\n",
    "    print(mul(a,b))\n",
    "elif(ch==4):\n",
    "    div=lambda a,b:a/b\n",
    "    print(div(a,b))\n",
    "else:\n",
    "    print(\"Invalid choice\")    "
   ]
  },
  {
   "cell_type": "markdown",
   "metadata": {},
   "source": [
    "### 09)Write a Python program that accepts a hyphen-separated sequence of words as input and prints the words in a hyphen-separated sequence after sorting them alphabetically\n",
    "Sample Items : green-red-yellow-black-white <br>\n",
    "Expected Result : black-green-red-white-yellow"
   ]
  },
  {
   "cell_type": "code",
   "execution_count": 60,
   "metadata": {},
   "outputs": [
    {
     "name": "stdout",
     "output_type": "stream",
     "text": [
      "Enter the Stringjay-rachchh-darshan-university\n",
      "['darshan', 'jay', 'rachchh', 'university']\n",
      "darshan-jay-rachchh-university\n"
     ]
    }
   ],
   "source": [
    "a=input(\"Enter the String\").split(\"-\")\n",
    "a.sort()\n",
    "print(a)\n",
    "x = \"-\".join(a)\n",
    "print(x)"
   ]
  },
  {
   "cell_type": "markdown",
   "metadata": {},
   "source": [
    "### 10) Write a python program to implement all function arguments type\n",
    "Positional arguments <Br>\n",
    "Default argument <Br>\n",
    "Keyword arguments (named arguments) <Br>\n",
    "Arbitrary arguments (variable-length arguments args and kwargs)"
   ]
  },
  {
   "cell_type": "code",
   "execution_count": 17,
   "metadata": {},
   "outputs": [
    {
     "name": "stdout",
     "output_type": "stream",
     "text": [
      "positional 30\n",
      "Default 22\n",
      "my name is jay roll no is 615\n",
      "Arbitary 7\n"
     ]
    }
   ],
   "source": [
    "#Positional Argument\n",
    "def pos(a,b):\n",
    "    sum=a+b\n",
    "    print(\"positional\",sum)\n",
    "pos(10,20)\n",
    "#Default argument\n",
    "def daf(b,a=10):\n",
    "    sum=a+b\n",
    "    print(\"Default\",sum)\n",
    "daf(b=12)\n",
    "#keyword argument\n",
    "def key(name,Rollno):\n",
    "    print(\"my name is\",name,\"roll no is\",Rollno)\n",
    "key(name=\"jay\",Rollno=615)\n",
    "arbitary argument\n",
    "def addArbitary(*a):\n",
    "    sum=0;\n",
    "    for i in a:\n",
    "        sum+=i\n",
    "    print(\"Arbitary\",sum)\n",
    "addArbitary(1,2,3,1)"
   ]
  },
  {
   "cell_type": "code",
   "execution_count": null,
   "metadata": {},
   "outputs": [],
   "source": []
  },
  {
   "cell_type": "markdown",
   "metadata": {},
   "source": [
    "### 01) WAP to calculate power of a number using recursion."
   ]
  },
  {
   "cell_type": "code",
   "execution_count": 21,
   "metadata": {},
   "outputs": [
    {
     "name": "stdout",
     "output_type": "stream",
     "text": [
      "Enter the number2\n",
      "Enter the Power2\n"
     ]
    },
    {
     "data": {
      "text/plain": [
       "4"
      ]
     },
     "execution_count": 21,
     "metadata": {},
     "output_type": "execute_result"
    }
   ],
   "source": [
    "def power(x,p):\n",
    "    if p==1:\n",
    "        return x\n",
    "    else:\n",
    "        return (x*power(x,p-1))\n",
    "x=int(input(\"Enter the number\"))\n",
    "p=int(input(\"Enter the Power\"))\n",
    "power(x,p)"
   ]
  },
  {
   "cell_type": "markdown",
   "metadata": {},
   "source": [
    "### 02) WAP to count digits of a number using recursion."
   ]
  },
  {
   "cell_type": "code",
   "execution_count": 24,
   "metadata": {},
   "outputs": [
    {
     "name": "stdout",
     "output_type": "stream",
     "text": [
      "Enter the Digit123\n",
      "3\n"
     ]
    }
   ],
   "source": [
    "def digit(n):\n",
    "    if n==0:\n",
    "        return 0\n",
    "    return 1 + digit(n // 10) \n",
    "a=int(input(\"Enter the Digit\"))\n",
    "print(digit(a))"
   ]
  },
  {
   "cell_type": "markdown",
   "metadata": {},
   "source": [
    "### 03) WAP to reverse an integer number using recursion."
   ]
  },
  {
   "cell_type": "code",
   "execution_count": 49,
   "metadata": {},
   "outputs": [
    {
     "name": "stdout",
     "output_type": "stream",
     "text": [
      "Enter number123\n",
      "321\n"
     ]
    }
   ],
   "source": [
    "a= int(input(\"Enter number\"))\n",
    "print(reverse(a,0))\n",
    "def reverse(n, r):\n",
    "    if n==0:\n",
    "        return r\n",
    "    else:\n",
    "        return reverse(n//10, r*10 + n%10)"
   ]
  },
  {
   "cell_type": "markdown",
   "metadata": {},
   "source": [
    "### 04) WAP to convert decimal number into binary using recursion."
   ]
  },
  {
   "cell_type": "code",
   "execution_count": 33,
   "metadata": {},
   "outputs": [
    {
     "name": "stdout",
     "output_type": "stream",
     "text": [
      "Enter the Decimal number8\n",
      "Binary Number is 1000\n"
     ]
    }
   ],
   "source": [
    "def convertBinary(n):\n",
    "    if n==0:\n",
    "         return 0\n",
    "    return n%2+10*(convertBinary(n//2))\n",
    "a=int(input(\"Enter the Decimal number\"))\n",
    "print(f\"Binary Number is {convertBinary(a)}\")"
   ]
  }
 ],
 "metadata": {
  "kernelspec": {
   "display_name": "Python 3 (ipykernel)",
   "language": "python",
   "name": "python3"
  },
  "language_info": {
   "codemirror_mode": {
    "name": "ipython",
    "version": 3
   },
   "file_extension": ".py",
   "mimetype": "text/x-python",
   "name": "python",
   "nbconvert_exporter": "python",
   "pygments_lexer": "ipython3",
   "version": "3.9.13"
  }
 },
 "nbformat": 4,
 "nbformat_minor": 4
}
