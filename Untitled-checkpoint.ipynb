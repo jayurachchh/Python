{
 "cells": [
  {
   "cell_type": "markdown",
   "id": "0ceab6b1",
   "metadata": {},
   "source": [
    "# Random Module"
   ]
  },
  {
   "cell_type": "code",
   "execution_count": 147,
   "id": "913c7dc0",
   "metadata": {},
   "outputs": [
    {
     "name": "stdout",
     "output_type": "stream",
     "text": [
      "0.029005228283614737\n"
     ]
    }
   ],
   "source": [
    "import random \n",
    "print(random.random())"
   ]
  },
  {
   "cell_type": "code",
   "execution_count": 10,
   "id": "0f13f551",
   "metadata": {},
   "outputs": [
    {
     "name": "stdout",
     "output_type": "stream",
     "text": [
      "0.6229016948897019\n"
     ]
    }
   ],
   "source": [
    "import random\n",
    "random.seed(5)\n",
    "print(random.random())"
   ]
  },
  {
   "cell_type": "code",
   "execution_count": 136,
   "id": "fba87693",
   "metadata": {},
   "outputs": [
    {
     "name": "stdout",
     "output_type": "stream",
     "text": [
      "84\n"
     ]
    }
   ],
   "source": [
    "# 1 and 100 include\n",
    "print(random.randint(1,100)"
   ]
  },
  {
   "cell_type": "code",
   "execution_count": 234,
   "id": "137ebded",
   "metadata": {},
   "outputs": [
    {
     "name": "stdout",
     "output_type": "stream",
     "text": [
      "15\n"
     ]
    }
   ],
   "source": [
    "# 30 is exclude\n",
    "print(random.randrange(0,30,5))"
   ]
  },
  {
   "cell_type": "code",
   "execution_count": 276,
   "id": "1841921e",
   "metadata": {},
   "outputs": [
    {
     "name": "stdout",
     "output_type": "stream",
     "text": [
      "20\n"
     ]
    }
   ],
   "source": [
    "l1=[10,20,30,40,50]\n",
    "print(random.choice(l1))"
   ]
  },
  {
   "cell_type": "code",
   "execution_count": 307,
   "id": "381973a3",
   "metadata": {},
   "outputs": [
    {
     "name": "stdout",
     "output_type": "stream",
     "text": [
      "[40, 50, 10, 30, 20]\n"
     ]
    }
   ],
   "source": [
    "random.shuffle(l1)\n",
    "print(l1)"
   ]
  },
  {
   "cell_type": "code",
   "execution_count": 347,
   "id": "70956543",
   "metadata": {},
   "outputs": [
    {
     "data": {
      "text/plain": [
       "9.582380638091566"
      ]
     },
     "execution_count": 347,
     "metadata": {},
     "output_type": "execute_result"
    }
   ],
   "source": [
    "# random genrate float value\n",
    "random.uniform(5,10)"
   ]
  },
  {
   "cell_type": "markdown",
   "id": "03abd3c9",
   "metadata": {},
   "source": [
    "# Math Module"
   ]
  },
  {
   "cell_type": "code",
   "execution_count": 378,
   "id": "7f8cf0a3",
   "metadata": {},
   "outputs": [
    {
     "name": "stdout",
     "output_type": "stream",
     "text": [
      "e=  2.718281828459045\n"
     ]
    }
   ],
   "source": [
    "import math\n",
    "print(\"e= \",math.e)"
   ]
  },
  {
   "cell_type": "code",
   "execution_count": 379,
   "id": "0daeaef8",
   "metadata": {},
   "outputs": [
    {
     "name": "stdout",
     "output_type": "stream",
     "text": [
      "Pie= 3.141592653589793\n"
     ]
    }
   ],
   "source": [
    "print(\"Pie=\",math.pi)"
   ]
  },
  {
   "cell_type": "code",
   "execution_count": 380,
   "id": "c9ccf256",
   "metadata": {},
   "outputs": [
    {
     "name": "stdout",
     "output_type": "stream",
     "text": [
      " Tau= 6.283185307179586\n"
     ]
    }
   ],
   "source": [
    "print(\" Tau=\",math.tau)"
   ]
  },
  {
   "cell_type": "code",
   "execution_count": 381,
   "id": "4df310c0",
   "metadata": {},
   "outputs": [
    {
     "name": "stdout",
     "output_type": "stream",
     "text": [
      "Ceil=  6\n"
     ]
    }
   ],
   "source": [
    "print(\"Ceil= \",math.ceil(5.6))"
   ]
  },
  {
   "cell_type": "code",
   "execution_count": 382,
   "id": "9d9b6c7e",
   "metadata": {},
   "outputs": [
    {
     "name": "stdout",
     "output_type": "stream",
     "text": [
      "floor=  5\n"
     ]
    }
   ],
   "source": [
    "print(\"floor= \",math.floor(5.6))"
   ]
  },
  {
   "cell_type": "code",
   "execution_count": 383,
   "id": "93cd3091",
   "metadata": {},
   "outputs": [
    {
     "name": "stdout",
     "output_type": "stream",
     "text": [
      "factorial= 120\n"
     ]
    }
   ],
   "source": [
    "print(\"factorial=\",math.factorial(5))"
   ]
  },
  {
   "cell_type": "code",
   "execution_count": 384,
   "id": "a581e999",
   "metadata": {},
   "outputs": [
    {
     "name": "stdout",
     "output_type": "stream",
     "text": [
      "Gcd= 15\n"
     ]
    }
   ],
   "source": [
    "print(\"Gcd=\",math.gcd(15,30))"
   ]
  },
  {
   "cell_type": "code",
   "execution_count": 385,
   "id": "84665743",
   "metadata": {},
   "outputs": [
    {
     "name": "stdout",
     "output_type": "stream",
     "text": [
      "Lcm= 30\n"
     ]
    }
   ],
   "source": [
    "print(\"Lcm=\",math.lcm(15,30))"
   ]
  },
  {
   "cell_type": "code",
   "execution_count": 386,
   "id": "370905f8",
   "metadata": {},
   "outputs": [
    {
     "name": "stdout",
     "output_type": "stream",
     "text": [
      "Absolute= 56.0\n"
     ]
    }
   ],
   "source": [
    "print(\"Absolute=\",math.fabs(-56))"
   ]
  },
  {
   "cell_type": "code",
   "execution_count": 387,
   "id": "29d77fec",
   "metadata": {},
   "outputs": [
    {
     "name": "stdout",
     "output_type": "stream",
     "text": [
      "Exp= 148.4131591025766\n"
     ]
    }
   ],
   "source": [
    "print(\"Exp=\",math.exp(5))"
   ]
  },
  {
   "cell_type": "code",
   "execution_count": 388,
   "id": "a1b75448",
   "metadata": {},
   "outputs": [
    {
     "name": "stdout",
     "output_type": "stream",
     "text": [
      "Power= 8.0\n"
     ]
    }
   ],
   "source": [
    "print(\"Power=\",math.pow(2,3))"
   ]
  },
  {
   "cell_type": "code",
   "execution_count": 389,
   "id": "fad1b0e7",
   "metadata": {},
   "outputs": [
    {
     "name": "stdout",
     "output_type": "stream",
     "text": [
      "log2= 2.321928094887362\n"
     ]
    }
   ],
   "source": [
    "print(\"log2=\",math.log2(5))"
   ]
  },
  {
   "cell_type": "code",
   "execution_count": 390,
   "id": "c5eb3ecb",
   "metadata": {},
   "outputs": [
    {
     "name": "stdout",
     "output_type": "stream",
     "text": [
      "log10= 1.4771212547196624\n"
     ]
    }
   ],
   "source": [
    "print(\"log10=\",math.log10(30))"
   ]
  },
  {
   "cell_type": "code",
   "execution_count": 391,
   "id": "8d97dff6",
   "metadata": {},
   "outputs": [
    {
     "name": "stdout",
     "output_type": "stream",
     "text": [
      "Sqrt= 3.0\n"
     ]
    }
   ],
   "source": [
    "print(\"Sqrt=\",math.sqrt(9))"
   ]
  },
  {
   "cell_type": "code",
   "execution_count": 392,
   "id": "cdc82e0f",
   "metadata": {},
   "outputs": [
    {
     "name": "stdout",
     "output_type": "stream",
     "text": [
      "radians= 1.5707963267948966\n"
     ]
    }
   ],
   "source": [
    "print(\"radians=\",math.radians(90))"
   ]
  },
  {
   "cell_type": "code",
   "execution_count": 393,
   "id": "c6d37b1d",
   "metadata": {},
   "outputs": [
    {
     "name": "stdout",
     "output_type": "stream",
     "text": [
      "degrees= 89.95437383553924\n"
     ]
    }
   ],
   "source": [
    "print(\"degrees=\",math.degrees(1.57))"
   ]
  },
  {
   "cell_type": "code",
   "execution_count": 395,
   "id": "22ddee17",
   "metadata": {},
   "outputs": [
    {
     "name": "stdout",
     "output_type": "stream",
     "text": [
      "gamma= 24.0\n"
     ]
    }
   ],
   "source": [
    "print(\"gamma=\",math.gamma(5))"
   ]
  },
  {
   "cell_type": "markdown",
   "id": "31257da8",
   "metadata": {},
   "source": [
    "# Date Time"
   ]
  },
  {
   "cell_type": "code",
   "execution_count": 414,
   "id": "e607b07d",
   "metadata": {},
   "outputs": [
    {
     "name": "stdout",
     "output_type": "stream",
     "text": [
      "2022-05-06\n"
     ]
    }
   ],
   "source": [
    "import datetime\n",
    "d=datetime.date(2022,5,6)\n",
    "print(d)"
   ]
  },
  {
   "cell_type": "code",
   "execution_count": 449,
   "id": "ea0799bf",
   "metadata": {},
   "outputs": [
    {
     "name": "stdout",
     "output_type": "stream",
     "text": [
      "2023-02-07\n",
      "7\n",
      "2\n",
      "2023\n"
     ]
    }
   ],
   "source": [
    "a=datetime.date.today()\n",
    "print(a)\n",
    "print(a.day)\n",
    "print(a.month)\n",
    "print(a.year)"
   ]
  },
  {
   "cell_type": "code",
   "execution_count": 451,
   "id": "9aae0f9d",
   "metadata": {},
   "outputs": [
    {
     "name": "stdout",
     "output_type": "stream",
     "text": [
      "2023-02-07 10:52:46.228448\n"
     ]
    }
   ],
   "source": [
    "print(datetime.datetime.now())"
   ]
  },
  {
   "cell_type": "code",
   "execution_count": 424,
   "id": "aa4a7d1c",
   "metadata": {},
   "outputs": [
    {
     "name": "stdout",
     "output_type": "stream",
     "text": [
      "10:30:05.000001\n",
      "10\n",
      "30\n",
      "5\n",
      "1\n"
     ]
    }
   ],
   "source": [
    "t=datetime.time(10,30,5,1)\n",
    "print(t)\n",
    "print(t.hour)\n",
    "print(t.minute)\n",
    "print(t.second)\n",
    "print(t.microsecond)"
   ]
  },
  {
   "cell_type": "code",
   "execution_count": 421,
   "id": "d64b6b49",
   "metadata": {},
   "outputs": [
    {
     "name": "stdout",
     "output_type": "stream",
     "text": [
      "2022-05-06 10:30:05.000001\n"
     ]
    }
   ],
   "source": [
    "a=datetime.datetime(2022,5,6,10,30,5,1)\n",
    "print(a)"
   ]
  },
  {
   "cell_type": "code",
   "execution_count": 433,
   "id": "bd95952f",
   "metadata": {},
   "outputs": [
    {
     "name": "stdout",
     "output_type": "stream",
     "text": [
      "2023-02-07 10:45:17.655895\n",
      "2023-02-09 10:45:17.655895\n"
     ]
    }
   ],
   "source": [
    "a=datetime.datetime.now()\n",
    "print(a)\n",
    "b=a+datetime.timedelta(days=2)\n",
    "print(b)"
   ]
  },
  {
   "cell_type": "code",
   "execution_count": 443,
   "id": "71fb0b5a",
   "metadata": {},
   "outputs": [
    {
     "name": "stdout",
     "output_type": "stream",
     "text": [
      "2023-02-07 10:49:16.196417\n",
      "Tuesday\n",
      "02\n",
      "23\n"
     ]
    }
   ],
   "source": [
    "a=datetime.datetime.now()\n",
    "print(a)\n",
    "print(a.strftime(\"%A\"))\n",
    "print(a.strftime(\"%m\"))\n",
    "print(a.strftime(\"%y\"))"
   ]
  }
 ],
 "metadata": {
  "kernelspec": {
   "display_name": "Python 3 (ipykernel)",
   "language": "python",
   "name": "python3"
  },
  "language_info": {
   "codemirror_mode": {
    "name": "ipython",
    "version": 3
   },
   "file_extension": ".py",
   "mimetype": "text/x-python",
   "name": "python",
   "nbconvert_exporter": "python",
   "pygments_lexer": "ipython3",
   "version": "3.9.13"
  }
 },
 "nbformat": 4,
 "nbformat_minor": 5
}
